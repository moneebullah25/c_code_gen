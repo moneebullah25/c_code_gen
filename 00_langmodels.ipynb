{
 "cells": [
  {
   "cell_type": "raw",
   "metadata": {},
   "source": [
    "---\n",
    "description: Basic Introduction of Language Models\n",
    "output-file: langmodels.html\n",
    "title: Language Models\n",
    "\n",
    "---\n",
    "\n"
   ]
  },
  {
   "cell_type": "code",
   "execution_count": null,
   "metadata": {},
   "outputs": [],
   "source": [
    "#| default_exp langmodels"
   ]
  },
  {
   "cell_type": "code",
   "execution_count": null,
   "metadata": {},
   "outputs": [],
   "source": [
    "#| hide\n",
    "from nbdev.showdoc import *"
   ]
  },
  {
   "cell_type": "code",
   "execution_count": null,
   "metadata": {},
   "outputs": [],
   "source": [
    "import string\n",
    "import torch\n",
    "import torch.nn.functional as F\n",
    "import matplotlib.pyplot as plt\n",
    "%matplotlib inline"
   ]
  },
  {
   "cell_type": "code",
   "execution_count": null,
   "metadata": {},
   "outputs": [],
   "source": [
    "with open('./names.txt') as f:\n",
    "    names = f.read().splitlines()"
   ]
  },
  {
   "cell_type": "markdown",
   "metadata": {},
   "source": [
    "Total number of names"
   ]
  },
  {
   "cell_type": "code",
   "execution_count": null,
   "metadata": {},
   "outputs": [
    {
     "data": {
      "text/plain": [
       "32033"
      ]
     },
     "execution_count": null,
     "metadata": {},
     "output_type": "execute_result"
    }
   ],
   "source": [
    "len(names)"
   ]
  },
  {
   "cell_type": "markdown",
   "metadata": {},
   "source": [
    "Problem with bigrams is that we were only looking the previous character to predict the next character, the more characters we look back, the bigger the matrix gets, with 2 characters then 27**2 sized matrix.\n",
    "\n",
    "Instead we use this:\n",
    "\n",
    "\n",
    "# Paper:\n",
    "\n",
    "## A Neural Probabilistic Language Model: [paper](https://www.jmlr.org/papers/volume3/bengio03a/bengio03a.pdf)\n",
    "\n",
    "In the paper, they've 17000 words in the vocabulary and for each word they assign a feature vector of dimension (30,). So all the 17000 words are embedded into a 30-dimensional space.\n",
    "\n",
    "Initially the feature vectors are random and on training the feature vectors are updated...words with similar meanings are closer to each other in the vector space and converse is true.\n",
    "\n",
    "Modelling approach: maximize log likelihood.\n",
    "\n",
    "### Model Generalization: example (from the paper):\n",
    "\n",
    "In the training set we might have a sentence like \"the cat is walking in the bedroom\", \"the dog is running in a room\". \n",
    "\n",
    "Due to the feature vectors, (a,the), (cat,dog), (room,bedroom), (is,was), (running,walking) might be closer together in the embedding space.\n",
    "\n",
    "This allows the model to predict stuff like \"the dog is walking in a ________\" -> bedroom, \"a cat is running the the _______\" -> room\n",
    "\n",
    "\n",
    "### Diagram\n",
    "\n",
    "input: 3 previous words, output: 4th word. For each word there's a one-hot index vector, and then there's the embedding vector 17000X30. So a dot product will result in the feature vector of that word.\n",
    "\n",
    "```python\n",
    "# with 10 words vocab and 3-dimensional embedding feature vector\n",
    "x = torch.tensor([0,0,1,0,0,0,0,0,0,0]) # word index vector\n",
    "y = torch.randn(10,3) # embedding vector\n",
    "y[2,:], x.float() @ y\n",
    "\n",
    ">>> (tensor([1.2606, 0.1792, 0.1153]), tensor([1.2606, 0.1792, 0.1153]))\n",
    "```\n",
    "\n",
    "so for the 3 words, 90 neurons: 30 from each word\n",
    "\n",
    "hidden layer: size is the hyperparameter, fully connected to the 90 input neurons with tanh activation.\n",
    "\n",
    "output layer: (17000,) layer with softmax which will give probability distribution for the next word in sequence. with argmax(output), we can get the index of the next word. \n",
    "\n",
    "\n",
    "\n",
    "![model](https://i.imgur.com/Yjag5Ud.png)\n"
   ]
  },
  {
   "cell_type": "markdown",
   "metadata": {},
   "source": [
    "# Creating the Dataset"
   ]
  },
  {
   "cell_type": "code",
   "execution_count": null,
   "metadata": {},
   "outputs": [
    {
     "data": {
      "text/plain": [
       "['emma', 'olivia', 'ava', 'isabella', 'sophia', 'charlotte', 'mia', 'amelia']"
      ]
     },
     "execution_count": null,
     "metadata": {},
     "output_type": "execute_result"
    }
   ],
   "source": [
    "names[:8]"
   ]
  },
  {
   "cell_type": "code",
   "execution_count": null,
   "metadata": {},
   "outputs": [
    {
     "name": "stdout",
     "output_type": "stream",
     "text": [
      "{'.': 0, 'a': 1, 'b': 2, 'c': 3, 'd': 4, 'e': 5, 'f': 6, 'g': 7, 'h': 8, 'i': 9, 'j': 10, 'k': 11, 'l': 12, 'm': 13, 'n': 14, 'o': 15, 'p': 16, 'q': 17, 'r': 18, 's': 19, 't': 20, 'u': 21, 'v': 22, 'w': 23, 'x': 24, 'y': 25, 'z': 26} \n",
      "\n",
      "{0: '.', 1: 'a', 2: 'b', 3: 'c', 4: 'd', 5: 'e', 6: 'f', 7: 'g', 8: 'h', 9: 'i', 10: 'j', 11: 'k', 12: 'l', 13: 'm', 14: 'n', 15: 'o', 16: 'p', 17: 'q', 18: 'r', 19: 's', 20: 't', 21: 'u', 22: 'v', 23: 'w', 24: 'x', 25: 'y', 26: 'z'}\n"
     ]
    }
   ],
   "source": [
    "vocab = ['.'] + list(string.ascii_lowercase)\n",
    "s_i = {s:i for i,s in enumerate(vocab)}\n",
    "i_s = {i:s for s,i in s_i.items()}\n",
    "print(s_i,'\\n')\n",
    "print(i_s)"
   ]
  },
  {
   "cell_type": "code",
   "execution_count": null,
   "metadata": {},
   "outputs": [
    {
     "name": "stdout",
     "output_type": "stream",
     "text": [
      "emma\n",
      "... --> e\n",
      "..e --> m\n",
      ".em --> m\n",
      "emm --> a\n",
      "mma --> .\n",
      "olivia\n",
      "... --> o\n",
      "..o --> l\n",
      ".ol --> i\n",
      "oli --> v\n",
      "liv --> i\n",
      "ivi --> a\n",
      "via --> .\n",
      "ava\n",
      "... --> a\n",
      "..a --> v\n",
      ".av --> a\n",
      "ava --> .\n",
      "isabella\n",
      "... --> i\n",
      "..i --> s\n",
      ".is --> a\n",
      "isa --> b\n",
      "sab --> e\n",
      "abe --> l\n",
      "bel --> l\n",
      "ell --> a\n",
      "lla --> .\n",
      "sophia\n",
      "... --> s\n",
      "..s --> o\n",
      ".so --> p\n",
      "sop --> h\n",
      "oph --> i\n",
      "phi --> a\n",
      "hia --> .\n"
     ]
    }
   ],
   "source": [
    "block_size = 3 # length of context: no. of characters we use to predict the next\n",
    "\n",
    "X, Y = [], []\n",
    "for w in names[:5]:\n",
    "    print(w)\n",
    "    context = [0] * block_size\n",
    "    for ch in w + '.':\n",
    "        ix = s_i[ch]\n",
    "        X.append(context)\n",
    "        Y.append(ix)\n",
    "        print(''.join(i_s[i] for i in context), '-->', i_s[ix])\n",
    "        context = context[1:] + [ix] # crop and append, like a rolling window\n",
    "        \n",
    "X = torch.tensor(X)\n",
    "Y = torch.tensor(Y)"
   ]
  },
  {
   "cell_type": "code",
   "execution_count": null,
   "metadata": {},
   "outputs": [
    {
     "data": {
      "text/plain": [
       "(torch.Size([32, 3]), torch.int64, torch.Size([32]), torch.int64)"
      ]
     },
     "execution_count": null,
     "metadata": {},
     "output_type": "execute_result"
    }
   ],
   "source": [
    "X.shape, X.dtype, Y.shape, Y.dtype"
   ]
  },
  {
   "cell_type": "markdown",
   "metadata": {},
   "source": [
    "Since we are working with characters and not words 2 dimensions will be enough to represent 27 characters (26 Alphabets and a `.` character at the end). However in the paper they have 30 dimensions to represent 17000 words of vocabulary."
   ]
  },
  {
   "cell_type": "code",
   "execution_count": null,
   "metadata": {},
   "outputs": [
    {
     "data": {
      "text/plain": [
       "torch.Size([27, 2])"
      ]
     },
     "execution_count": null,
     "metadata": {},
     "output_type": "execute_result"
    }
   ],
   "source": [
    "# embedding look-up table C: 27 vocab -> 2-dimensional space\n",
    "\n",
    "C = torch.randn((27,2))\n",
    "C.shape"
   ]
  },
  {
   "cell_type": "markdown",
   "metadata": {},
   "source": [
    "In PyTorch there are many ways get the embeddings using the look-up table `C`. First method is just to use index range from 0-27 inclusive and get the embedding for that character which will be 2 dimensional in this case `C[5]`. Second method is to convert the index into one hot encoding vectors which can then later be use to pluck out the embeddings `F.one_hot(torch.tensor(5), num_classes=27).float() @ C`. \n",
    "\n",
    "Note @ operator in PyTorch represent matrix multiplication operation"
   ]
  },
  {
   "cell_type": "code",
   "execution_count": null,
   "metadata": {},
   "outputs": [
    {
     "data": {
      "text/plain": [
       "(tensor([-0.2063,  0.5881]), tensor([-0.2063,  0.5881]))"
      ]
     },
     "execution_count": null,
     "metadata": {},
     "output_type": "execute_result"
    }
   ],
   "source": [
    "C[5], F.one_hot(torch.tensor(5), num_classes=27).float() @ C"
   ]
  },
  {
   "cell_type": "markdown",
   "metadata": {},
   "source": [
    "Also we could use a vector to pluck out multiple embeddings in a single call. We could also pluck out embedding of multiple characters at the same time using `C[torch.tensor([5,6,7,7,7])]` "
   ]
  },
  {
   "cell_type": "code",
   "execution_count": null,
   "metadata": {},
   "outputs": [
    {
     "data": {
      "text/plain": [
       "tensor([[-0.2063,  0.5881],\n",
       "        [-0.1750, -0.1636],\n",
       "        [ 0.1559,  0.7583]])"
      ]
     },
     "execution_count": null,
     "metadata": {},
     "output_type": "execute_result"
    }
   ],
   "source": [
    "C[torch.tensor([5,6,7])] # index with a vector"
   ]
  },
  {
   "cell_type": "markdown",
   "metadata": {},
   "source": [
    "Using the same above token we could pass the 3 characters tensors we built when creating the dataset to index with a matrix, hence for each of the 3 chars in the context, we get their respective feature vectors"
   ]
  },
  {
   "cell_type": "code",
   "execution_count": null,
   "metadata": {},
   "outputs": [
    {
     "data": {
      "text/plain": [
       "tensor([[ 0.8973, -0.7494],\n",
       "        [ 0.8973, -0.7494],\n",
       "        [-0.2063,  0.5881]])"
      ]
     },
     "execution_count": null,
     "metadata": {},
     "output_type": "execute_result"
    }
   ],
   "source": [
    "C[X[1]]"
   ]
  },
  {
   "cell_type": "markdown",
   "metadata": {},
   "source": [
    "Also we could just simply pass the whole feature set in this case these will be 3 characters and pluck out their respective feature vectors. "
   ]
  },
  {
   "cell_type": "code",
   "execution_count": null,
   "metadata": {},
   "outputs": [
    {
     "data": {
      "text/plain": [
       "torch.Size([32, 3, 2])"
      ]
     },
     "execution_count": null,
     "metadata": {},
     "output_type": "execute_result"
    }
   ],
   "source": [
    "C[X].shape"
   ]
  },
  {
   "cell_type": "markdown",
   "metadata": {},
   "source": [
    "Right now we are only taking 5 names at the moment so we are only taking 32 examples. Each example contains 3 characters for the training and model job is to predict out the 4th character."
   ]
  },
  {
   "cell_type": "code",
   "execution_count": null,
   "metadata": {},
   "outputs": [
    {
     "data": {
      "text/plain": [
       "torch.Size([32, 3])"
      ]
     },
     "execution_count": null,
     "metadata": {},
     "output_type": "execute_result"
    }
   ],
   "source": [
    "X.shape"
   ]
  },
  {
   "cell_type": "markdown",
   "metadata": {},
   "source": [
    "Recall again at this point that X is a tensor with (32, 3) shape. There are total of 32 examples at the moment and at each example there are 3 characters. So `X[13,2]` means take out the value at index 2 of example at 13 index, which will give us a number range from 0-27 (26 Alphabets and a single `.` character at the end of each name)\n",
    "\n",
    "Now when we run `C[X]` it will get all the embeddings for each example in our dataset, once we get all the embeddings we can then use index `[13,2]` to access embedding at that particular index\n",
    "\n",
    "Similarly we could just simply use the index of the character range from 0-27 to directly pluck out the embeddings from the C look-up table"
   ]
  },
  {
   "cell_type": "code",
   "execution_count": null,
   "metadata": {},
   "outputs": [
    {
     "data": {
      "text/plain": [
       "(tensor(1), tensor([-1.1704,  1.9040]), tensor([-1.1704,  1.9040]))"
      ]
     },
     "execution_count": null,
     "metadata": {},
     "output_type": "execute_result"
    }
   ],
   "source": [
    "X[13,2], C[X][13,2], C[1]"
   ]
  },
  {
   "cell_type": "markdown",
   "metadata": {},
   "source": [
    "We get all the embeddings for our characters in the dataset in the variable `emb`"
   ]
  },
  {
   "cell_type": "code",
   "execution_count": null,
   "metadata": {},
   "outputs": [],
   "source": [
    "emb = C[X]"
   ]
  },
  {
   "cell_type": "markdown",
   "metadata": {},
   "source": [
    "Construction of hidden layer"
   ]
  },
  {
   "cell_type": "code",
   "execution_count": null,
   "metadata": {},
   "outputs": [],
   "source": [
    "hidden_dim = 100\n",
    "\n",
    "W1 = torch.randn((6,hidden_dim))\n",
    "b1 = torch.randn(hidden_dim)"
   ]
  },
  {
   "cell_type": "markdown",
   "metadata": {},
   "source": [
    "### We cant do\n",
    "\n",
    "```python\n",
    "emb @ W1 + b1 # since the embeddings are stacked as [3,2]\n",
    "```\n",
    "\n",
    "##### transforming [32,3,2] -> [32,6]\n",
    "\n",
    "multiple methods:\n",
    "\n",
    "- CONCAT: issue: cant generalize if 5 dimensional then we've to do till 4.\n",
    "```python\n",
    "    print('cat:',emb[:,0,:].shape, emb[:,1,:].shape, emb[:,2,:].shape)\n",
    "    print(torch.cat([emb[:,0,:],emb[:,1,:],emb[:,2,:]], 1).shape)\n",
    "    >>> cat: torch.Size([32, 2]) torch.Size([32, 2]) torch.Size([32, 2])\n",
    "    >>> torch.Size([32, 6])\n",
    "```\n",
    "\n",
    "- UNBIND: removes a tensor dimension, returns a list.\n",
    "```python\n",
    "    print('cat, unbind:', torch.cat(torch.unbind(emb, 1), 1).shape)\n",
    "    >>> cat, unbind: torch.Size([32, 6])\n",
    "```\n",
    "\n",
    "- VIEW: reshape\n",
    "```python\n",
    "    print('view:',emb.view(32,6).shape)\n",
    "    >>> view: torch.Size([32, 6])\n",
    "```\n",
    "\n",
    "View is the best since it doesn't create a new tensor unlike cat and unbind and tensor representation changes internally.\n",
    "\n",
    "also, instead of doing `.view(32,6)`, we can do `.view(emb.shape[0],6)` or `.view(-1,6)`"
   ]
  },
  {
   "cell_type": "code",
   "execution_count": null,
   "metadata": {},
   "outputs": [
    {
     "data": {
      "text/plain": [
       "torch.Size([32, 100])"
      ]
     },
     "execution_count": null,
     "metadata": {},
     "output_type": "execute_result"
    }
   ],
   "source": [
    "h = torch.tanh(emb.view(-1,6) @ W1 + b1)\n",
    "h.shape"
   ]
  },
  {
   "cell_type": "markdown",
   "metadata": {},
   "source": [
    "We are taking two hidden layers in the model architecture"
   ]
  },
  {
   "cell_type": "code",
   "execution_count": null,
   "metadata": {},
   "outputs": [],
   "source": [
    "W2 = torch.randn((hidden_dim, 27))\n",
    "b2 = torch.randn(27)"
   ]
  },
  {
   "cell_type": "markdown",
   "metadata": {},
   "source": [
    "logits are the probabilities of given 32 characters what character to be followed next most likely out of 27 characters"
   ]
  },
  {
   "cell_type": "code",
   "execution_count": null,
   "metadata": {},
   "outputs": [],
   "source": [
    "logits = h @ W2 + b2"
   ]
  },
  {
   "cell_type": "code",
   "execution_count": null,
   "metadata": {},
   "outputs": [
    {
     "data": {
      "text/plain": [
       "torch.Size([32, 27])"
      ]
     },
     "execution_count": null,
     "metadata": {},
     "output_type": "execute_result"
    }
   ],
   "source": [
    "logits.shape"
   ]
  },
  {
   "cell_type": "code",
   "execution_count": null,
   "metadata": {},
   "outputs": [
    {
     "data": {
      "text/plain": [
       "(torch.Size([32, 27]),\n",
       " tensor([1.0000, 1.0000, 1.0000, 1.0000, 1.0000, 1.0000, 1.0000, 1.0000, 1.0000,\n",
       "         1.0000, 1.0000, 1.0000, 1.0000, 1.0000, 1.0000, 1.0000, 1.0000, 1.0000,\n",
       "         1.0000, 1.0000, 1.0000, 1.0000, 1.0000, 1.0000, 1.0000, 1.0000, 1.0000,\n",
       "         1.0000, 1.0000, 1.0000, 1.0000, 1.0000]))"
      ]
     },
     "execution_count": null,
     "metadata": {},
     "output_type": "execute_result"
    }
   ],
   "source": [
    "counts = logits.exp()\n",
    "prob = counts / counts.sum(1, keepdims=True)\n",
    "prob.shape, prob.sum(1)"
   ]
  },
  {
   "cell_type": "code",
   "execution_count": null,
   "metadata": {},
   "outputs": [
    {
     "data": {
      "text/plain": [
       "tensor(17.0337)"
      ]
     },
     "execution_count": null,
     "metadata": {},
     "output_type": "execute_result"
    }
   ],
   "source": [
    "loss = -prob[torch.arange(32), Y].log().mean()\n",
    "loss"
   ]
  },
  {
   "cell_type": "markdown",
   "metadata": {},
   "source": [
    "Complete Model Architecture"
   ]
  },
  {
   "cell_type": "code",
   "execution_count": null,
   "metadata": {},
   "outputs": [],
   "source": [
    "# with a generator and seed\n",
    "seed = 2147483647\n",
    "g = torch.Generator().manual_seed(seed)\n",
    "\n",
    "hidden_dim = 100\n",
    "C = torch.randn((27,2), generator=g)\n",
    "W1 = torch.randn((6,hidden_dim), generator=g)\n",
    "b1 = torch.randn(hidden_dim, generator=g)\n",
    "W2 = torch.randn((hidden_dim,27), generator=g)\n",
    "b2 = torch.randn(27, generator=g)\n",
    "\n",
    "parameters = [C,W1,b1,W2,b2]"
   ]
  },
  {
   "cell_type": "code",
   "execution_count": null,
   "metadata": {},
   "outputs": [
    {
     "data": {
      "text/plain": [
       "3481"
      ]
     },
     "execution_count": null,
     "metadata": {},
     "output_type": "execute_result"
    }
   ],
   "source": [
    "# num parameters\n",
    "sum(p.nelement() for p in parameters)"
   ]
  },
  {
   "cell_type": "markdown",
   "metadata": {},
   "source": [
    "### Calculating Loss\n",
    " \n",
    "\n",
    "```python\n",
    "counts = logits.exp()\n",
    "prob = counts / counts.sum(1, keepdims=True)\n",
    "loss = -prob[torch.arange(32), Y].log().mean()\n",
    "```\n",
    "reason for not using the above all the time:\n",
    "- lot of intermediate tensors\n",
    "- longer and complex backprop due to more tensors\n",
    "- numerically not so well behaved, see:\n",
    "\n",
    "```python\n",
    "counts = torch.tensor([-2,-3,0,5]).exp()\n",
    "prob = counts / counts.sum()\n",
    "print(counts, prob)\n",
    "counts = torch.tensor([-100,-3,0,5]).exp()\n",
    "prob = counts / counts.sum()\n",
    "print(counts, prob)\n",
    "counts = torch.tensor([-100,-3,0,100]).exp()\n",
    "prob = counts / counts.sum()\n",
    "print(counts, prob)\n",
    ">>> tensor([1.3534e-01, 4.9787e-02, 1.0000e+00, 1.4841e+02]) tensor([9.0466e-04, 3.3281e-04, 6.6846e-03, 9.9208e-01])\n",
    ">>> tensor([3.7835e-44, 4.9787e-02, 1.0000e+00, 1.4841e+02]) tensor([0.0000e+00, 3.3311e-04, 6.6906e-03, 9.9298e-01])\n",
    ">>> tensor([3.7835e-44, 4.9787e-02, 1.0000e+00,        inf]) tensor([0., 0., 0., nan])\n",
    "```\n",
    "\n",
    "- also any offset will produce same probabilities due to exp()\n",
    "\n",
    "```python\n",
    "counts = torch.tensor([-2,-3,0,5]).exp()\n",
    "prob = counts / counts.sum()\n",
    "print(prob)\n",
    "counts = (torch.tensor([-2,-3,0,5]) - 10).exp() # -10 offset\n",
    "prob = counts / counts.sum()\n",
    "print(prob)\n",
    ">>> tensor([9.0466e-04, 3.3281e-04, 6.6846e-03, 9.9208e-01])\n",
    ">>> tensor([9.0466e-04, 3.3281e-04, 6.6846e-03, 9.9208e-01])\n",
    "```\n",
    "\n",
    "- what `F.cross_entropy(preds,trues)` does is subtracts the largest value in the tensor, which gives usable probabilities"
   ]
  },
  {
   "cell_type": "markdown",
   "metadata": {},
   "source": [
    "Before training start we need to set all the parameters' requires_grad to true to tell PyTorch to automatically compute gradients for each parameter"
   ]
  },
  {
   "cell_type": "code",
   "execution_count": null,
   "metadata": {},
   "outputs": [],
   "source": [
    "for p in parameters:\n",
    "    p.requires_grad = True"
   ]
  },
  {
   "cell_type": "code",
   "execution_count": null,
   "metadata": {},
   "outputs": [
    {
     "data": {
      "text/plain": [
       "tensor(17.7697, grad_fn=<NllLossBackward0>)"
      ]
     },
     "execution_count": null,
     "metadata": {},
     "output_type": "execute_result"
    }
   ],
   "source": [
    "# forward pass:\n",
    "emb = C[X]\n",
    "h = torch.tanh(emb.view(-1,6) @ W1 + b1)\n",
    "logits = h @ W2 + b2\n",
    "loss = F.cross_entropy(logits, Y)\n",
    "loss"
   ]
  },
  {
   "cell_type": "code",
   "execution_count": null,
   "metadata": {},
   "outputs": [],
   "source": [
    "# backward pass\n",
    "for p in parameters:\n",
    "    p.grad = None\n",
    "    \n",
    "loss.backward()\n",
    "\n",
    "# optimize\n",
    "for p in parameters:\n",
    "    p.data += -0.1 * p.grad"
   ]
  },
  {
   "cell_type": "markdown",
   "metadata": {},
   "source": [
    "### Training Loop\n",
    "\n",
    "Here we have only 32 examples, hence we're technically overfitting a batch of 32\n",
    "\n",
    "If we use all names we'll have 200k+ examples and we'll be forward and backward passing through all of them at once which takes a lot of compute time\n",
    "\n",
    "Instead what we do is use mini-batches of data -- randomly selected and compute passes on those"
   ]
  },
  {
   "cell_type": "code",
   "execution_count": null,
   "metadata": {},
   "outputs": [
    {
     "name": "stdout",
     "output_type": "stream",
     "text": [
      "loss at epoch 1:\t 17.769712448120117\n",
      "loss at epoch 2:\t 13.656402587890625\n",
      "loss at epoch 3:\t 11.298768997192383\n",
      "loss at epoch 4:\t 9.452457427978516\n",
      "loss at epoch 5:\t 7.984262466430664\n",
      "loss at epoch 6:\t 6.891321182250977\n",
      "loss at epoch 7:\t 6.1000142097473145\n",
      "loss at epoch 8:\t 5.452036380767822\n",
      "loss at epoch 9:\t 4.8981523513793945\n",
      "loss at epoch 10:\t 4.414663791656494\n"
     ]
    }
   ],
   "source": [
    "seed = 2147483647\n",
    "g = torch.Generator().manual_seed(seed)\n",
    "\n",
    "hidden_dim = 100\n",
    "C = torch.randn((27,2), generator=g)\n",
    "W1 = torch.randn((6,hidden_dim), generator=g)\n",
    "b1 = torch.randn(hidden_dim, generator=g)\n",
    "W2 = torch.randn((hidden_dim,27), generator=g)\n",
    "b2 = torch.randn(27, generator=g)\n",
    "\n",
    "parameters = [C,W1,b1,W2,b2]\n",
    "for p in parameters:\n",
    "    p.requires_grad = True\n",
    "\n",
    "epochs = 10\n",
    "lr = 0.1\n",
    "\n",
    "losses = []\n",
    "\n",
    "for epoch in range(epochs):\n",
    "    \n",
    "    # forward pass\n",
    "    \n",
    "    emb = C[X]\n",
    "    h = torch.tanh(emb.view(-1,6) @ W1 + b1)\n",
    "    logits = h @ W2 + b2\n",
    "    \n",
    "    loss = F.cross_entropy(logits, Y)\n",
    "    losses.append(loss)\n",
    "    \n",
    "    for p in parameters:\n",
    "        p.grad = None\n",
    "        \n",
    "    # calc gradients\n",
    "    loss.backward()\n",
    "    \n",
    "    # optimize\n",
    "    for p in parameters:\n",
    "        p.data += -lr * p.grad\n",
    "        \n",
    "    print(f\"loss at epoch {epoch+1}:\\t {loss.item()}\")"
   ]
  },
  {
   "cell_type": "markdown",
   "metadata": {},
   "source": [
    "Now using all the examples "
   ]
  },
  {
   "cell_type": "code",
   "execution_count": null,
   "metadata": {},
   "outputs": [],
   "source": [
    "# dataset\n",
    "\n",
    "block_size = 3 # length of context: no. of characters we use to predict the next\n",
    "\n",
    "X, Y = [], []\n",
    "for w in names:\n",
    "    context = [0] * block_size\n",
    "    for ch in w + '.':\n",
    "        ix = s_i[ch]\n",
    "        X.append(context)\n",
    "        Y.append(ix)\n",
    "        context = context[1:] + [ix] # crop and append, like a rolling window\n",
    "        \n",
    "X = torch.tensor(X)\n",
    "Y = torch.tensor(Y)"
   ]
  },
  {
   "cell_type": "code",
   "execution_count": null,
   "metadata": {},
   "outputs": [
    {
     "data": {
      "text/plain": [
       "(torch.Size([228146, 3]), torch.Size([228146]))"
      ]
     },
     "execution_count": null,
     "metadata": {},
     "output_type": "execute_result"
    }
   ],
   "source": [
    "X.shape, Y.shape"
   ]
  },
  {
   "cell_type": "code",
   "execution_count": null,
   "metadata": {},
   "outputs": [],
   "source": [
    "C = torch.randn((27,2))"
   ]
  },
  {
   "cell_type": "code",
   "execution_count": null,
   "metadata": {},
   "outputs": [
    {
     "name": "stdout",
     "output_type": "stream",
     "text": [
      "loss at epoch 10:\t 11.600504875183105\n",
      "loss at epoch 20:\t 10.521777153015137\n",
      "loss at epoch 30:\t 5.835473537445068\n",
      "loss at epoch 40:\t 5.3462066650390625\n",
      "loss at epoch 50:\t 6.919842720031738\n",
      "loss at epoch 60:\t 4.665844440460205\n",
      "loss at epoch 70:\t 3.684293270111084\n",
      "loss at epoch 80:\t 3.533886671066284\n",
      "loss at epoch 90:\t 4.2809247970581055\n",
      "loss at epoch 100:\t 3.3377153873443604\n",
      "\n",
      "Total Loss: 3.74735426902771\n"
     ]
    }
   ],
   "source": [
    "seed = 2147483647\n",
    "hidden_dim = 100\n",
    "g = torch.Generator().manual_seed(seed)\n",
    "C = torch.randn((27,2), generator=g)\n",
    "W1 = torch.randn((6,hidden_dim), generator=g)\n",
    "b1 = torch.randn(hidden_dim, generator=g)\n",
    "W2 = torch.randn((hidden_dim,27), generator=g)\n",
    "b2 = torch.randn(27, generator=g)\n",
    "\n",
    "parameters = [C,W1,b1,W2,b2]\n",
    "for p in parameters:\n",
    "    p.requires_grad=True\n",
    "    \n",
    "# ------------\n",
    "\n",
    "epochs = 100\n",
    "lr = 0.1\n",
    "batch_size = 32\n",
    "losses = []\n",
    "\n",
    "for epoch in range(1,epochs+1):\n",
    "    \n",
    "    # mini-batch creation\n",
    "    ix = torch.randint(0,X.shape[0], (batch_size,))\n",
    "    \n",
    "    # forward pass\n",
    "    \n",
    "    emb = C[X[ix]]\n",
    "    h = torch.tanh(emb.view(-1,6) @ W1 + b1)\n",
    "    logits = h @ W2 + b2\n",
    "    \n",
    "    loss = F.cross_entropy(logits, Y[ix])\n",
    "    losses.append(loss.item())\n",
    "    \n",
    "    for p in parameters:\n",
    "        p.grad = None\n",
    "        \n",
    "    # calc gradients\n",
    "    loss.backward()\n",
    "    \n",
    "    # optimize\n",
    "    for p in parameters:\n",
    "        p.data += -lr * p.grad\n",
    "        \n",
    "    if epoch%(epochs//10) == 0:\n",
    "        print(f\"loss at epoch {epoch}:\\t {loss.item()}\")\n",
    "        \n",
    "# --- total loss\n",
    "emb = C[X]\n",
    "h = torch.tanh(emb.view(-1,6) @ W1 + b1)\n",
    "logits = h @ W2 + b2\n",
    "loss = F.cross_entropy(logits, Y)\n",
    "print(\"\\nTotal Loss:\",loss.item())"
   ]
  },
  {
   "cell_type": "markdown",
   "metadata": {},
   "source": [
    "Plotting the loss with epochs, to check how loss decrease when we pass mini-batches. You can see the volatility between losses as mini-batch doesn't represent the complete dataset"
   ]
  },
  {
   "cell_type": "code",
   "execution_count": null,
   "metadata": {},
   "outputs": [
    {
     "data": {
      "text/plain": [
       "[<matplotlib.lines.Line2D>]"
      ]
     },
     "execution_count": null,
     "metadata": {},
     "output_type": "execute_result"
    },
    {
     "data": {
      "image/png": "[encoded data removed]",
      "text/plain": [
       "<Figure size 640x480 with 1 Axes>"
      ]
     },
     "metadata": {},
     "output_type": "display_data"
    }
   ],
   "source": [
    "plt.plot(losses)"
   ]
  },
  {
   "cell_type": "markdown",
   "metadata": {},
   "source": [
    "Since now we have been using 0.1 as our learning rate but there is way to determine the best learning rate for our problem"
   ]
  },
  {
   "cell_type": "code",
   "execution_count": null,
   "metadata": {},
   "outputs": [],
   "source": [
    "lr_exp = torch.linspace(-3,0,1000)\n",
    "lrs = 10**lr_exp # exponential spacing between LRs"
   ]
  },
  {
   "cell_type": "code",
   "execution_count": null,
   "metadata": {},
   "outputs": [
    {
     "name": "stdout",
     "output_type": "stream",
     "text": [
      "loss at epoch 100:\t 16.775936126708984\n",
      "loss at epoch 200:\t 14.972878456115723\n",
      "loss at epoch 300:\t 11.613161087036133\n",
      "loss at epoch 400:\t 6.739404678344727\n",
      "loss at epoch 500:\t 6.509151458740234\n",
      "loss at epoch 600:\t 3.7060327529907227\n",
      "loss at epoch 700:\t 2.9348864555358887\n",
      "loss at epoch 800:\t 4.311702728271484\n",
      "loss at epoch 900:\t 4.990762233734131\n",
      "loss at epoch 1000:\t 7.118990898132324\n",
      "\n",
      "Total Loss: 7.572385787963867\n"
     ]
    }
   ],
   "source": [
    "g = torch.Generator().manual_seed(seed)\n",
    "C = torch.randn((27,2), generator=g)\n",
    "W1 = torch.randn((6,hidden_dim), generator=g)\n",
    "b1 = torch.randn(hidden_dim, generator=g)\n",
    "W2 = torch.randn((hidden_dim,27), generator=g)\n",
    "b2 = torch.randn(27, generator=g)\n",
    "\n",
    "parameters = [C,W1,b1,W2,b2]\n",
    "for p in parameters:\n",
    "    p.requires_grad=True\n",
    "    \n",
    "# ------------\n",
    "\n",
    "epochs = 1000\n",
    "batch_size = 32\n",
    "losses = []\n",
    "\n",
    "for epoch in range(1,epochs+1):\n",
    "    \n",
    "    # mini-batch creation\n",
    "    ix = torch.randint(0,X.shape[0], (batch_size,))\n",
    "    \n",
    "    # forward pass\n",
    "    \n",
    "    emb = C[X[ix]]\n",
    "    h = torch.tanh(emb.view(-1,6) @ W1 + b1)\n",
    "    logits = h @ W2 + b2\n",
    "    \n",
    "    loss = F.cross_entropy(logits, Y[ix])\n",
    "    losses.append(loss.item())\n",
    "    \n",
    "    for p in parameters:\n",
    "        p.grad = None\n",
    "        \n",
    "    # calc gradients\n",
    "    loss.backward()\n",
    "    \n",
    "    # getting lr\n",
    "    lr = lrs[epoch-1]\n",
    "    \n",
    "    # optimize\n",
    "    for p in parameters:\n",
    "        p.data += -lr * p.grad\n",
    "        \n",
    "    if epoch%(epochs//10) == 0:\n",
    "        print(f\"loss at epoch {epoch}:\\t {loss.item()}\")\n",
    "        \n",
    "# --- total loss\n",
    "emb = C[X]\n",
    "h = torch.tanh(emb.view(-1,6) @ W1 + b1)\n",
    "logits = h @ W2 + b2\n",
    "loss = F.cross_entropy(logits, Y)\n",
    "print(\"\\nTotal Loss:\",loss.item())"
   ]
  },
  {
   "cell_type": "code",
   "execution_count": null,
   "metadata": {},
   "outputs": [
    {
     "data": {
      "text/plain": [
       "[<matplotlib.lines.Line2D>]"
      ]
     },
     "execution_count": null,
     "metadata": {},
     "output_type": "execute_result"
    },
    {
     "data": {
      "image/png": "[encoded data removed]",
      "text/plain": [
       "<Figure size 640x480 with 1 Axes>"
      ]
     },
     "metadata": {},
     "output_type": "display_data"
    }
   ],
   "source": [
    "plt.plot(lrs, losses)"
   ]
  },
  {
   "cell_type": "code",
   "execution_count": null,
   "metadata": {},
   "outputs": [
    {
     "data": {
      "text/plain": [
       "[<matplotlib.lines.Line2D>]"
      ]
     },
     "execution_count": null,
     "metadata": {},
     "output_type": "execute_result"
    },
    {
     "data": {
      "image/png": "[encoded data removed]",
      "text/plain": [
       "<Figure size 640x480 with 1 Axes>"
      ]
     },
     "metadata": {},
     "output_type": "display_data"
    }
   ],
   "source": [
    "plt.plot(lr_exp, losses)"
   ]
  },
  {
   "cell_type": "markdown",
   "metadata": {},
   "source": [
    "From the above graphs, we notice that the losses explode at some LR value after 10**-1, hence lr=0.1 is pretty decent"
   ]
  },
  {
   "cell_type": "markdown",
   "metadata": {},
   "source": [
    "**Let's train for 30000 epochs with lr decay after 20k and 28k epochs**"
   ]
  },
  {
   "cell_type": "code",
   "execution_count": null,
   "metadata": {},
   "outputs": [
    {
     "name": "stdout",
     "output_type": "stream",
     "text": [
      "loss at epoch 3000:\t 2.6296911239624023\n",
      "loss at epoch 6000:\t 2.74481201171875\n",
      "loss at epoch 9000:\t 2.112273693084717\n",
      "loss at epoch 12000:\t 2.591141700744629\n",
      "loss at epoch 15000:\t 2.684185028076172\n",
      "loss at epoch 18000:\t 2.3270766735076904\n",
      "loss at epoch 21000:\t 2.4287893772125244\n",
      "loss at epoch 24000:\t 2.7208263874053955\n",
      "loss at epoch 27000:\t 2.207639455795288\n",
      "loss at epoch 30000:\t 2.339667558670044\n",
      "\n",
      "Total Loss: 2.3456742763519287\n"
     ]
    }
   ],
   "source": [
    "g = torch.Generator().manual_seed(seed)\n",
    "C = torch.randn((27,2), generator=g)\n",
    "W1 = torch.randn((6,hidden_dim), generator=g)\n",
    "b1 = torch.randn(hidden_dim, generator=g)\n",
    "W2 = torch.randn((hidden_dim,27), generator=g)\n",
    "b2 = torch.randn(27, generator=g)\n",
    "\n",
    "parameters = [C,W1,b1,W2,b2]\n",
    "for p in parameters:\n",
    "    p.requires_grad=True\n",
    "    \n",
    "# ------------\n",
    "\n",
    "epochs = 30000\n",
    "lr = 0.1\n",
    "batch_size = 32\n",
    "losses = []\n",
    "\n",
    "for epoch in range(1,epochs+1):\n",
    "    \n",
    "    # mini-batch creation\n",
    "    ix = torch.randint(0,X.shape[0], (batch_size,))\n",
    "    \n",
    "    # forward pass\n",
    "    \n",
    "    emb = C[X[ix]]\n",
    "    h = torch.tanh(emb.view(-1,6) @ W1 + b1)\n",
    "    logits = h @ W2 + b2\n",
    "    \n",
    "    loss = F.cross_entropy(logits, Y[ix])\n",
    "    losses.append(loss.item())\n",
    "    \n",
    "    for p in parameters:\n",
    "        p.grad = None\n",
    "        \n",
    "    # calc gradients\n",
    "    loss.backward()\n",
    "    \n",
    "    # update lr\n",
    "    if epoch > 20000:\n",
    "        lr = 0.01\n",
    "    elif epoch > 28000:\n",
    "        lr = 0.001\n",
    "    \n",
    "    # optimize\n",
    "    for p in parameters:\n",
    "        p.data += -lr * p.grad\n",
    "        \n",
    "    if epoch%3000 == 0:\n",
    "        print(f\"loss at epoch {epoch}:\\t {loss.item()}\")\n",
    "        \n",
    "# --- total loss\n",
    "emb = C[X]\n",
    "h = torch.tanh(emb.view(-1,6) @ W1 + b1)\n",
    "logits = h @ W2 + b2\n",
    "loss = F.cross_entropy(logits, Y)\n",
    "print(\"\\nTotal Loss:\",loss.item())"
   ]
  },
  {
   "cell_type": "code",
   "execution_count": null,
   "metadata": {},
   "outputs": [
    {
     "data": {
      "text/plain": [
       "[<matplotlib.lines.Line2D>]"
      ]
     },
     "execution_count": null,
     "metadata": {},
     "output_type": "execute_result"
    },
    {
     "data": {
      "image/png": "[encoded data removed]",
      "text/plain": [
       "<Figure size 640x480 with 1 Axes>"
      ]
     },
     "metadata": {},
     "output_type": "display_data"
    }
   ],
   "source": [
    "plt.plot(losses)"
   ]
  },
  {
   "cell_type": "code",
   "execution_count": null,
   "metadata": {},
   "outputs": [],
   "source": [
    "#| hide\n",
    "import nbdev; nbdev.nbdev_export()"
   ]
  }
 ],
 "metadata": {
  "kernelspec": {
   "display_name": "python3",
   "language": "python",
   "name": "python3"
  }
 },
 "nbformat": 4,
 "nbformat_minor": 4
}

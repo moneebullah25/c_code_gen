{
 "cells": [
  {
   "cell_type": "raw",
   "metadata": {},
   "source": [
    "---\n",
    "description: Understanding and implemenatation of the Wavenet Model\n",
    "output-file: wavenet.html\n",
    "title: Wavenet\n",
    "\n",
    "---\n",
    "\n"
   ]
  },
  {
   "cell_type": "code",
   "execution_count": 20,
   "metadata": {},
   "outputs": [],
   "source": [
    "#| default_exp wavenet"
   ]
  },
  {
   "cell_type": "code",
   "execution_count": 21,
   "metadata": {},
   "outputs": [],
   "source": [
    "#| hide\n",
    "from nbdev.showdoc import *"
   ]
  },
  {
   "cell_type": "code",
   "execution_count": 22,
   "metadata": {},
   "outputs": [],
   "source": [
    "import torch\n",
    "import torch.nn.functional as F\n",
    "import matplotlib.pyplot as plt\n",
    "import math"
   ]
  },
  {
   "cell_type": "markdown",
   "metadata": {},
   "source": [
    "---\n",
    "\n",
    "## WaveNet Implementation: Based on Andrej Karpathy's Lecture\n",
    "\n",
    "This notebook is a practical follow-up to Andrej Karpathy's \"Building makemore Part 5: Building a WaveNet\" lecture. Check out the full lecture [here](https://www.youtube.com/watch?v=t3YJ5hKiMQ0).\n",
    "\n",
    "Here's what we'll cover:\n",
    "\n",
    "1. **Model Basics**: Introduction to a multi-layer perceptron character-level language model.\n",
    "2. **Model Enhancement**: Expanding the architecture and input characters for better results.\n",
    "3. **WaveNet Overview**: Understand WaveNet's hierarchical structure and its predictions.\n",
    "4. **Batch Normalization**: Dive into the BatchNorm layer and its challenges.\n",
    "5. **PyTorch Containers**: A look at how PyTorch structures its layers.\n",
    "6. **Dataset Expansion**: Increase the context length for performance improvement.\n",
    "7. **Forward Pass**: Visualization of tensor transformations in the network.\n",
    "8. **BatchNorm1D Bug**: Addressing an implementation bug.\n",
    "9. **Development Insights**: Best practices in deep neural network development.\n",
    "10. **Optimizing WaveNet**: Suggestions and strategies for better performance.\n",
    "\n",
    "This notebook aims to provide a clear understanding of WaveNet's development and optimization process.\n",
    "\n",
    "---"
   ]
  },
  {
   "attachments": {},
   "cell_type": "markdown",
   "metadata": {},
   "source": [
    "# Starter Code"
   ]
  },
  {
   "cell_type": "markdown",
   "metadata": {},
   "source": [
    "## WaveNet\n",
    "\n",
    "### WaveNet Overview:\n",
    "- **Nature of the Model**: WaveNet is a fully probabilistic and autoregressive model. This means that when predicting any given audio sample, it considers all the previous samples.\n",
    "- **Efficiency**: It can be trained efficiently on very high-resolution audio data (e.g., data with tens of thousands of samples per second).\n",
    "- **Performance**: For text-to-speech tasks, human listeners rated the outputs of WaveNet as more natural sounding than other leading methods. Additionally, it can switch between different speakers by conditioning on the speaker's identity. WaveNet can also generate musical fragments that sound realistic.\n",
    "\n",
    "### Technical Insights:\n",
    "\n",
    "1. **Generative Model for Audio**: WaveNet operates directly on raw audio, predicting the probability of each audio sample based on the previous ones. The model's structure is inspired by PixelCNN, which was designed for images.\n",
    "\n",
    "2. **Dilated Causal Convolutions**: To ensure that predictions for any timestep don't depend on future timesteps, the model uses causal convolutions. \"Dilated\" convolutions are introduced to effectively increase the receptive field (the portion of the input data the model \"sees\") without significantly increasing computational cost.\n",
    "\n",
    "3. **Softmax Distributions**: Instead of using a mixture model, the paper employs a softmax distribution for modeling audio samples. To manage the high-resolution of raw audio, a µ-law companding transformation is applied to the data before quantizing it.\n",
    "\n",
    "4. **Gated Activation Units**: The paper uses a specific type of activation function for the neural network, which was found to work particularly well for audio signals.\n",
    "\n",
    "5. **Residual and Skip Connections**: These are techniques to help train deeper neural networks more effectively. They help in faster convergence and enable deeper model architectures.\n",
    "\n",
    "6. **Conditional WaveNets**: WaveNet can be conditioned on additional inputs, which allows it to generate audio with specific characteristics. For example, by conditioning on a speaker's identity, WaveNet can produce audio in that speaker's voice. The paper distinguishes between global conditioning (affecting the whole audio) and local conditioning (affecting specific parts of the audio).\n",
    "\n",
    "7. **Context Stacks**: To increase the receptive field size, the paper introduces the concept of context stacks. These are separate smaller networks that process longer parts of the audio signal and condition the primary WaveNet model.\n",
    "\n",
    "### Applications:\n",
    "- **Text-to-Speech (TTS)**: WaveNet can produce very natural-sounding speech, surpassing other state-of-the-art systems.\n",
    "- **Voice Modulation**: A single WaveNet model can mimic many different speakers.\n",
    "- **Music Generation**: WaveNet can generate realistic musical fragments.\n",
    "- **Other Audio Tasks**: The model is also promising for tasks like speech enhancement, voice conversion, and source separation.\n",
    "\n",
    "In essence, WaveNet is a breakthrough in audio generation, offering a versatile and powerful model for a range of audio-related tasks."
   ]
  },
  {
   "cell_type": "code",
   "execution_count": 23,
   "metadata": {},
   "outputs": [
    {
     "name": "stdout",
     "output_type": "stream",
     "text": [
      "['emma', 'olivia', 'ava', 'isabella', 'sophia', 'charlotte', 'mia', 'amelia']\n",
      "32033\n"
     ]
    }
   ],
   "source": [
    "words = open(\"names.txt\", \"r\").read().splitlines()\n",
    "print(words[:8])\n",
    "print(len(words))"
   ]
  },
  {
   "cell_type": "code",
   "execution_count": 24,
   "metadata": {},
   "outputs": [
    {
     "name": "stdout",
     "output_type": "stream",
     "text": [
      "{1: 'a', 2: 'b', 3: 'c', 4: 'd', 5: 'e', 6: 'f', 7: 'g', 8: 'h', 9: 'i', 10: 'j', 11: 'k', 12: 'l', 13: 'm', 14: 'n', 15: 'o', 16: 'p', 17: 'q', 18: 'r', 19: 's', 20: 't', 21: 'u', 22: 'v', 23: 'w', 24: 'x', 25: 'y', 26: 'z', 0: '.'}\n",
      "27\n"
     ]
    }
   ],
   "source": [
    "chars = sorted(list(set(\"\".join(words))))\n",
    "stoi = {s: i + 1 for i, s in enumerate(chars)}\n",
    "stoi[\".\"] = 0\n",
    "itos = {i: s for s, i in stoi.items()}\n",
    "vocab_size = len(stoi)\n",
    "\n",
    "print(itos)\n",
    "print(vocab_size)"
   ]
  },
  {
   "cell_type": "code",
   "execution_count": 25,
   "metadata": {},
   "outputs": [
    {
     "name": "stdout",
     "output_type": "stream",
     "text": [
      "torch.Size([182625, 3]) torch.Size([182625])\n",
      "torch.Size([22655, 3]) torch.Size([22655])\n",
      "torch.Size([22866, 3]) torch.Size([22866])\n"
     ]
    }
   ],
   "source": [
    "block_size = 3\n",
    "def build_dataset(words):  \n",
    "\n",
    "  X, Y = [], []\n",
    "  \n",
    "  for w in words:\n",
    "\n",
    "    context = [0] * block_size\n",
    "    for ch in w + '.':\n",
    "\n",
    "      ix = stoi[ch]\n",
    "\n",
    "      X.append(context)\n",
    "      Y.append(ix)\n",
    "\n",
    "      context = context[1:] + [ix]\n",
    "\n",
    "  X = torch.tensor(X)\n",
    "  Y = torch.tensor(Y)\n",
    "  print(X.shape, Y.shape)\n",
    "  return X, Y\n",
    "\n",
    "import random\n",
    "random.seed(42)\n",
    "random.shuffle(words)\n",
    "n1 = int(0.8*len(words))\n",
    "n2 = int(0.9*len(words))\n",
    "\n",
    "Xtr, Ytr = build_dataset(words[:n1])\n",
    "Xdev, Ydev = build_dataset(words[n1:n2])\n",
    "Xte, Yte = build_dataset(words[n2:])"
   ]
  },
  {
   "cell_type": "code",
   "execution_count": 26,
   "metadata": {},
   "outputs": [
    {
     "name": "stdout",
     "output_type": "stream",
     "text": [
      "... ----> y\n",
      "..y ----> u\n",
      ".yu ----> h\n",
      "yuh ----> e\n",
      "uhe ----> n\n",
      "hen ----> g\n",
      "eng ----> .\n",
      "... ----> d\n",
      "..d ----> i\n",
      ".di ----> o\n",
      "dio ----> n\n",
      "ion ----> d\n",
      "ond ----> r\n",
      "ndr ----> e\n",
      "dre ----> .\n"
     ]
    }
   ],
   "source": [
    "for x, y in zip(Xtr[:15], Ytr[:15]):\n",
    "  print(\"\".join(itos[ix.item()] for ix in x), \"---->\", itos[y.item()])"
   ]
  },
  {
   "cell_type": "markdown",
   "metadata": {},
   "source": [
    "## High-level hierarchical view of PyTorch API\n",
    "\n",
    "The PyTorch API is extensive, but I'll provide a high-level hierarchical view of its core components, which should give you a roadmap for diving deeper:\n",
    "\n",
    "1. **Tensors**\n",
    "    - Core data structure in PyTorch, similar to NumPy arrays but with GPU support.\n",
    "    - `torch.Tensor` class and its various methods.\n",
    "    - Creation: `torch.empty()`, `torch.rand()`, `torch.zeros()`, `torch.ones()`, `torch.tensor()`, etc.\n",
    "    - Operations: Mathematical, Reduction, Comparison, Matrix, etc.\n",
    "    - Indexing, Slicing, Joining, Mutating ops: `torch.cat()`, `torch.stack()`, etc.\n",
    "\n",
    "2. **Autograd**\n",
    "    - Automatic differentiation library.\n",
    "    - `torch.autograd` module.\n",
    "    - `Variable`: Deprecated, but historically important. All Tensors now have `requires_grad` attribute.\n",
    "    - `Function`: Defines a forward and backward operation. Links to `Variable` to build a computation graph.\n",
    "\n",
    "3. **Neural Networks**\n",
    "    - `torch.nn` module.\n",
    "    - Layers: Pre-defined layers like `nn.Linear`, `nn.Conv2d`, `nn.ReLU`, etc.\n",
    "    - Loss functions: `nn.CrossEntropyLoss`, `nn.MSELoss`, etc.\n",
    "    - Optimizers: Located in `torch.optim`, e.g., `optim.Adam`, `optim.SGD`.\n",
    "    - Utilities: `nn.functional` for stateless functions like activation functions.\n",
    "    - `nn.Module`: Base class for all neural network modules, aiding in organizing code and parameters.\n",
    "    - `nn.Sequential`: A sequential container for stacking layers.\n",
    "\n",
    "4. **Utilities**\n",
    "    - Tensor transformations: `torchvision.transforms`.\n",
    "    - Data handling for NN training: `torch.utils.data.Dataset`, `torch.utils.data.DataLoader`.\n",
    "\n",
    "5. **Optimization**\n",
    "    - `torch.optim` module.\n",
    "    - Optimization algorithms like SGD, Adam, RMSProp, etc.\n",
    "    - Learning rate schedulers: Adjust LR on-the-fly during training.\n",
    "\n",
    "6. **Serialization**\n",
    "    - Save and load models: `torch.save()`, `torch.load()`, `nn.Module.load_state_dict()`, etc.\n",
    "\n",
    "7. **Distributed Training**\n",
    "    - `torch.distributed`: For multi-GPU and distributed training.\n",
    "    - Backend support for different communication protocols.\n",
    "\n",
    "8. **Other Libraries & Extensions**\n",
    "    - `torchvision`: Datasets, models, and image transformations for computer vision.\n",
    "    - `torchaudio`: Audio processing tools and datasets.\n",
    "    - `torchtext`: NLP data utilities and models.\n",
    "\n",
    "9. **Device & CUDA**\n",
    "    - Tensor operations on different devices: CPU, GPU.\n",
    "    - CUDA Tensors: Tensors transferred to GPU.\n",
    "    - Device management: `torch.cuda`, `torch.device`.\n",
    "\n",
    "10. **JIT Compiler**\n",
    "    - `torch.jit`: Just-In-Time compiler to convert PyTorch models to a representation that can be optimized and run in non-Python environments.\n",
    "\n",
    "11. **Quantization**\n",
    "    - Reduce the size of models and increase runtime performance.\n",
    "    - `torch.quantization`: Contains utilities for model quantization.\n",
    "\n",
    "Start with Tensors and Autograd to get a solid grasp on the basics. Then, you can delve into neural networks with the `torch.nn` module. After mastering these, choose specialized topics based on your interests and needs."
   ]
  },
  {
   "cell_type": "code",
   "execution_count": 27,
   "metadata": {},
   "outputs": [],
   "source": [
    "# Layers made in part 3\n",
    "class Linear:\n",
    "    def __init__(self, fan_in, fan_out, bias = True):\n",
    "        self.weight = torch.randn((fan_in, fan_out))\n",
    "        self.weight /= fan_in ** 0.5\n",
    "        self.bias = torch.zeros((fan_out)) if bias else None\n",
    "\n",
    "    def __call__(self, x):\n",
    "        self.out = x @ self.weight\n",
    "        if self.bias is not None:\n",
    "            self.out += self.bias\n",
    "        return self.out\n",
    "\n",
    "    def parameters(self):\n",
    "        return [self.weight] + ([] if self.bias is None else [self.bias])\n",
    "\n",
    "\n",
    "class BatchNorm1d:\n",
    "    def __init__(self, dim, eps=1e-5, momentum = 0.1):\n",
    "        self.eps = eps\n",
    "        self.momentum = momentum\n",
    "        self.training = True\n",
    "\n",
    "        # parameters (trained with backprop)\n",
    "        self.gamma = torch.ones(dim)\n",
    "        self.beta = torch.zeros(dim)\n",
    "\n",
    "        # buffers (trained while running `momentum update`)\n",
    "        self.running_mean = torch.zeros(dim)\n",
    "        self.running_var = torch.ones(dim)\n",
    "\n",
    "    def __call__(self, x):\n",
    "        if self.training:\n",
    "            # batch mean\n",
    "            xmean = x.mean(0, keepdim= True)\n",
    "            # batch variance\n",
    "            xvar = x.var(0, keepdim= True)\n",
    "        else:\n",
    "            xmean = self.running_mean\n",
    "            xvar = self.running_var\n",
    "        \n",
    "        xhat = (x - xmean) / torch.sqrt(xvar + self.eps)\n",
    "        self.out = self.gamma * xhat + self.beta\n",
    "\n",
    "        # update the buffers in training\n",
    "        if self.training:\n",
    "            with torch.no_grad():\n",
    "                self.running_mean = (1 - self.momentum) * self.running_mean + self.momentum * xmean\n",
    "                self.running_var = (1 - self.momentum) * self.running_var + self.momentum * xvar\n",
    "        \n",
    "        return self.out\n",
    "    \n",
    "    def parameters(self):\n",
    "        return [self.gamma, self.beta]\n",
    "    \n",
    "\n",
    "class Tanh:\n",
    "    def __call__(self, x):\n",
    "        self.out = torch.tanh(x)\n",
    "        return self.out\n",
    "\n",
    "    def parameters(self):\n",
    "        return []"
   ]
  },
  {
   "cell_type": "markdown",
   "metadata": {},
   "source": [
    "## Random seeding in the context of PyTorch and neural network training.\n",
    "\n",
    "### 1. **Purpose of Seeding**:\n",
    "In machine learning, especially in neural networks, we often initialize weights and biases randomly. Moreover, when you're dealing with stochastic processes like dropout, sampling, and other random transformations, the behavior can differ from one run to another due to the randomness. By setting a seed for these random operations, we ensure that the randomness is consistent across multiple runs, making experiments reproducible.\n",
    "\n",
    "### 2. **torch.manual_seed() vs. torch.Generator()**:\n",
    "\n",
    "- **torch.manual_seed(seed)**:\n",
    "  This sets the seed for the default global generator in PyTorch. Every time you call a function that involves randomness without specifying a generator, it uses the global generator. When you set a manual seed, you're setting the seed for this global generator. It's a straightforward way to ensure consistent randomness throughout your program.\n",
    "\n",
    "- **torch.Generator()**:\n",
    "  This creates an independent random number generator. You can manually set the seed for this generator and use it for specific operations, keeping it separate from the global generator. This is particularly useful when you want different parts of your code to have different random behaviors, but still want each of those behaviors to be reproducible.\n",
    "\n",
    "### 3. **Why not always use torch.manual_seed()?**:\n",
    "In many cases, using `torch.manual_seed()` is sufficient, especially for simpler projects and experiments. However, as your projects grow in complexity, there might be reasons to maintain different seeds:\n",
    "\n",
    "- **Fine-grained Control**: You might want different parts of your code to operate with different seeds. For example, if you're doing multi-task learning with multiple neural networks, you might want to initialize each network with a different seed, but still want each initialization to be reproducible.\n",
    "  \n",
    "- **Parallelism**: When running operations in parallel, having separate generators can prevent potential synchronization issues and ensure that each parallel operation is consistent across runs.\n",
    "\n",
    "- **Isolation**: By using different generators for different parts of your code, you can change one part of your code without affecting the randomness in another part.\n",
    "\n",
    "### Conclusion:\n",
    "While `torch.manual_seed()` is a quick and effective method for most use cases, as your projects become more complex, you might find situations where the granularity and control offered by `torch.Generator()` become necessary. Knowing when and how to use each method appropriately can make your experiments more organized and your results more reliable."
   ]
  },
  {
   "cell_type": "code",
   "execution_count": 28,
   "metadata": {},
   "outputs": [
    {
     "data": {
      "text/plain": [
       "<torch._C.Generator at 0x7f228c1dc9b0>"
      ]
     },
     "execution_count": 28,
     "metadata": {},
     "output_type": "execute_result"
    }
   ],
   "source": [
    "torch.manual_seed(42)"
   ]
  },
  {
   "cell_type": "code",
   "execution_count": 29,
   "metadata": {},
   "outputs": [
    {
     "name": "stdout",
     "output_type": "stream",
     "text": [
      "num parameters: 12097\n"
     ]
    }
   ],
   "source": [
    "n_embd = 10\n",
    "n_hidden = 200\n",
    "\n",
    "C = torch.randn((vocab_size, n_embd))\n",
    "layers = [\n",
    "    Linear(n_embd * block_size, n_hidden, bias= False),\n",
    "    BatchNorm1d(n_hidden),\n",
    "    Tanh(),\n",
    "    Linear(n_hidden, vocab_size)\n",
    "]\n",
    "\n",
    "with torch.no_grad():\n",
    "    layers[-1].weight *= 0.1\n",
    "\n",
    "parameters = [C] + [p for l in layers for p in l.parameters()]\n",
    "print(f\"num parameters: {sum(p.numel() for p in parameters)}\")\n",
    "\n",
    "for p in parameters:\n",
    "    p.requires_grad_()"
   ]
  },
  {
   "cell_type": "markdown",
   "metadata": {},
   "source": [
    "## `torch.randint`\n",
    "\n",
    "### 1. **torch.randint**:\n",
    "\n",
    "`torch.randint` is a PyTorch function that returns a tensor filled with random integers generated uniformly between two specified integer values (low and high).\n",
    "\n",
    "The function signature is:\n",
    "```python\n",
    "torch.randint(low=0, high, size, *, dtype=None, layout=torch.strided, device=None, requires_grad=False)\n",
    "```\n",
    "\n",
    "- `low` (int, optional): Lowest integer to be drawn from the distribution. Default: 0.\n",
    "- `high` (int): One above the highest integer to be drawn from the distribution.\n",
    "- `size` (tuple): The shape of the output tensor.\n",
    "- Additional arguments like `dtype`, `device`, and `requires_grad` allow you to further specify the nature of the returned tensor.\n",
    "\n",
    "### 2. **Given Line**:\n",
    "\n",
    "This would produce a 1D tensor with 4 random integer values in the specified range.\n",
    "\n",
    "This line aims to generate a tensor of random integer values between 0 (inclusive) and `Xtr.shape[0]` (exclusive).\n",
    "\n",
    "```python\n",
    "ix = torch.randint(0, Xtr.shape[0], (4,))\n",
    "```"
   ]
  },
  {
   "cell_type": "code",
   "execution_count": 32,
   "metadata": {},
   "outputs": [
    {
     "name": "stdout",
     "output_type": "stream",
     "text": [
      "step 0 loss 3.2844254970550537\n",
      "step 10000 loss 2.317671060562134\n",
      "step 20000 loss 2.330378293991089\n",
      "step 30000 loss 1.8735352754592896\n",
      "step 40000 loss 2.1151928901672363\n",
      "step 50000 loss 1.5009478330612183\n",
      "step 60000 loss 1.5936698913574219\n",
      "step 70000 loss 2.6373109817504883\n",
      "step 80000 loss 2.13984751701355\n",
      "step 90000 loss 2.172301769256592\n",
      "step 100000 loss 2.2835309505462646\n",
      "step 110000 loss 2.4028546810150146\n",
      "step 120000 loss 2.017624855041504\n",
      "step 130000 loss 1.9769095182418823\n",
      "step 140000 loss 2.0796420574188232\n",
      "step 150000 loss 1.9310541152954102\n",
      "step 160000 loss 2.306513547897339\n",
      "step 170000 loss 1.9171533584594727\n",
      "step 180000 loss 1.7749229669570923\n",
      "step 190000 loss 1.8716074228286743\n"
     ]
    }
   ],
   "source": [
    "# same optimization as last time\n",
    "max_steps = 200000\n",
    "batch_size = 32\n",
    "lossi = []\n",
    "\n",
    "for i in range(max_steps):\n",
    "    ix = torch.randint(0, Xtr.shape[0], (batch_size,))\n",
    "    Xb, Yb = Xtr[ix], Ytr[ix]\n",
    "\n",
    "    # forward pass\n",
    "    emb = C[Xb] # embed characters into vector space\n",
    "    x = emb.view((emb.shape[0], -1)) # flatten\n",
    "    for layer in layers:\n",
    "        x = layer(x)\n",
    "    # compute loss\n",
    "    loss = F.cross_entropy(x, Yb)\n",
    "\n",
    "    # backward pass\n",
    "    for layer in layers:\n",
    "        layer.out.retain_grad()\n",
    "    for p in parameters:\n",
    "        p.grad = None\n",
    "    loss.backward()\n",
    "\n",
    "    # update\n",
    "    lr = 0.1 if i < 10000 else 0.01\n",
    "    for p in parameters:\n",
    "        p.data -= lr * p.grad\n",
    "    \n",
    "    # track stats\n",
    "    if i % 10000 == 0:\n",
    "        print(f\"step {i} loss {loss.item()}\")\n",
    "\n",
    "    lossi.append(loss.item())"
   ]
  },
  {
   "attachments": {},
   "cell_type": "markdown",
   "metadata": {},
   "source": [
    "## Fixing the Learning Rate Plot"
   ]
  },
  {
   "cell_type": "code",
   "execution_count": 33,
   "metadata": {},
   "outputs": [
    {
     "data": {
      "image/png": "[encoded data removed]",
      "text/plain": [
       "<Figure size 640x480 with 1 Axes>"
      ]
     },
     "metadata": {},
     "output_type": "display_data"
    }
   ],
   "source": [
    "plt.plot(torch.tensor(lossi).view(-1, 1000).mean(1, keepdim= True).data);"
   ]
  },
  {
   "attachments": {},
   "cell_type": "markdown",
   "metadata": {},
   "source": [
    "# Pytorchifying our code\n",
    "Add `Embedding`, `Flatten` and `Sequential` Classes"
   ]
  },
  {
   "attachments": {},
   "cell_type": "markdown",
   "metadata": {},
   "source": [
    "## Classes Definitions"
   ]
  },
  {
   "cell_type": "markdown",
   "metadata": {},
   "source": [
    "## `torch.nn.Embedding`.\n",
    "\n",
    "### 1. **The Concept of Embeddings**:\n",
    "\n",
    "Embeddings are a powerful tool in the world of deep learning, especially when dealing with categorical data, like words in a language. Instead of representing words or other categorical variables as discrete values (like integers), embeddings represent them as continuous vectors. These vectors capture more information and relationships between different words or categories.\n",
    "\n",
    "### 2. **torch.nn.Embedding**:\n",
    "\n",
    "`torch.nn.Embedding` is PyTorch's module to create an embedding layer. Essentially, it's a lookup table that maps from integer indices (representing specific words or categories) to dense vectors (their embeddings).\n",
    "\n",
    "### 3. **Parameters**:\n",
    "\n",
    "- **num_embeddings**: Total number of distinct categories/words.\n",
    "  \n",
    "- **embedding_dim**: The size of each embedding vector, i.e., the number of units each embedding should have.\n",
    "\n",
    "### 4. **Why Use Embeddings?**:\n",
    "\n",
    "- **Dimensionality Reduction**: One-hot encoded vectors can be massive (imagine a vector of length 50,000 for a moderate-sized vocabulary, with all zeros except for a single one). Embeddings condense this information into a much smaller dimension, like 300 for word embeddings.\n",
    "\n",
    "- **Capture Relationships**: Embeddings are learned from data. This means that words or categories that have similar meanings or behaviors can have embeddings that are close to each other in the vector space.\n",
    "\n",
    "- **Flexibility**: Embeddings can be fine-tuned during training. This means that as a model learns a task, it can also adjust the embeddings to capture any task-specific insights.\n",
    "\n",
    "### 5. **Usage**:\n",
    "\n",
    "An embedding layer is typically initialized with random weights and will learn an embedding for all the words in the training dataset. It is a flexible layer that can be used in a variety of ways, such as:\n",
    "\n",
    "- **Pre-trained Embeddings**: Sometimes, embeddings are pre-trained on a larger dataset and then fine-tuned on a specific task. Word2Vec, GloVe, and FastText are popular pre-trained word embeddings.\n",
    "\n",
    "- **Task-specific Embeddings**: For some tasks, it might be beneficial to let the embedding layer learn embeddings from scratch, tailored to the specific task.\n",
    "\n",
    "### 6. **Under the Hood**:\n",
    "\n",
    "At its core, an embedding layer is a weight matrix. The rows of this matrix correspond to each category's unique ID (like a word's ID), and the columns correspond to the embedding dimensions. When you \"pass\" an integer to this layer, it returns the corresponding row of the weight matrix. This operation is essentially a lookup, making it efficient.\n",
    "\n",
    "### Conclusion:\n",
    "\n",
    "`torch.nn.Embedding` provides an efficient and straightforward way to handle categorical data in neural networks. By converting discrete categorical values into continuous vectors, embeddings enable models to capture intricate relationships in the data and improve performance on a variety of tasks."
   ]
  },
  {
   "cell_type": "markdown",
   "metadata": {},
   "source": [
    "## `torch.nn.Flatten`.\n",
    "\n",
    "### 1. **The Basic Idea**:\n",
    "\n",
    "When working with neural networks, especially convolutional neural networks (CNNs), we often deal with multi-dimensional data (like images). After passing this data through several convolutional and pooling layers, we often want to use the resulting multi-dimensional feature maps in fully connected layers (dense layers). However, fully connected layers expect a 1D input. Here's where `torch.nn.Flatten` comes in: it's used to transform multi-dimensional data into a one-dimensional format.\n",
    "\n",
    "### 2. **torch.nn.Flatten**:\n",
    "\n",
    "`torch.nn.Flatten` is a layer provided by PyTorch that reshapes its input into a one-dimensional tensor. It's effectively a 'flattening' operation.\n",
    "\n",
    "### 3. **Parameters**:\n",
    "\n",
    "- **start_dim**: Dimension to start the flattening. Typically, for a batch of images, the data shape might be `[batch_size, channels, height, width]`. If we want to flatten the channel, height, and width dimensions, we'd start the flattening from dimension 1 (0-based indexing for dimensions). By default, `start_dim` is 1.\n",
    "\n",
    "- **end_dim**: Dimension to end the flattening. By default, it's -1, meaning it will flatten all dimensions from `start_dim` to the last dimension.\n",
    "\n",
    "### 4. **Why Use Flatten?**:\n",
    "\n",
    "- **Transitioning in Architectures**: It's common in CNNs to have convolutional layers followed by dense layers. The flatten layer acts as a bridge between these two, reshaping the output of the convolutional layers to a format that dense layers can work with.\n",
    "\n",
    "- **Simplicity**: Instead of manually reshaping tensors using `.view()` or `.reshape()`, `torch.nn.Flatten` provides a more readable and explicit way to flatten data within a model architecture.\n",
    "\n",
    "### 5. **Usage**:\n",
    "\n",
    "Imagine you have a batch of images with the shape `[batch_size, channels, height, width]`. After passing them through convolutional layers, you might get a shape like `[batch_size, 64, 7, 7]`. Before sending this to a fully connected layer, you'd use the flatten layer:\n",
    "\n",
    "```python\n",
    "flat_layer = torch.nn.Flatten()\n",
    "flattened_data = flat_layer(conv_output)\n",
    "```\n",
    "\n",
    "Now, `flattened_data` will have a shape `[batch_size, 64*7*7]`, ready to be passed to a fully connected layer.\n",
    "\n",
    "### 6. **In Context**:\n",
    "\n",
    "If you're familiar with other deep learning frameworks, you might recognize this as similar to TensorFlow's `tf.keras.layers.Flatten` or Keras's `Flatten` layer. It's a staple in the toolkit of designing deep learning architectures.\n",
    "\n",
    "### Conclusion:\n",
    "\n",
    "`torch.nn.Flatten` is a utility layer in PyTorch that streamlines the process of converting multi-dimensional tensors into a one-dimensional format, easing the transition from convolutional layers to fully connected layers in neural network architectures. It's a straightforward yet crucial component for many deep learning models, particularly CNNs."
   ]
  },
  {
   "cell_type": "markdown",
   "metadata": {},
   "source": [
    "## `torch.nn.Sequential`.\n",
    "\n",
    "### 1. **The Basic Idea**:\n",
    "\n",
    "When building neural networks, we often create architectures that involve a series of layers or operations that process data in a specific order. `torch.nn.Sequential` is a container provided by PyTorch that allows us to encapsulate a sequence of modules or operations into a single module, streamlining both the definition and execution of such sequences.\n",
    "\n",
    "### 2. **torch.nn.Sequential**:\n",
    "\n",
    "At its core, `torch.nn.Sequential` is essentially an ordered container of modules. Data passed to a `Sequential` module will traverse through each contained module in the order they were added, with the output of one module becoming the input to the next.\n",
    "\n",
    "### 3. **Advantages**:\n",
    "\n",
    "- **Readability**: Architectures, especially simpler ones, become more readable and compact. Instead of defining and calling layers separately, you can consolidate them into a single `Sequential` block.\n",
    "  \n",
    "- **Modularity**: It allows for easy reuse of certain sequences of operations across different architectures. If a specific sequence of layers gets used frequently, encapsulating it within a `Sequential` block makes it easier to plug into various models.\n",
    "\n",
    "### 4. **Usage**:\n",
    "\n",
    "Suppose you're designing a simple feedforward neural network with two hidden layers and ReLU activations:\n",
    "\n",
    "Without `Sequential`:\n",
    "```python\n",
    "self.fc1 = torch.nn.Linear(input_size, hidden_size)\n",
    "self.relu1 = torch.nn.ReLU()\n",
    "self.fc2 = torch.nn.Linear(hidden_size, hidden_size)\n",
    "self.relu2 = torch.nn.ReLU()\n",
    "self.fc3 = torch.nn.Linear(hidden_size, output_size)\n",
    "```\n",
    "With `Sequential`:\n",
    "```python\n",
    "self.layers = torch.nn.Sequential(\n",
    "    torch.nn.Linear(input_size, hidden_size),\n",
    "    torch.nn.ReLU(),\n",
    "    torch.nn.Linear(hidden_size, hidden_size),\n",
    "    torch.nn.ReLU(),\n",
    "    torch.nn.Linear(hidden_size, output_size)\n",
    ")\n",
    "```\n",
    "\n",
    "The latter is clearly more concise and readable.\n",
    "\n",
    "### 5. **Points to Remember**:\n",
    "\n",
    "- While `Sequential` is convenient, it's most suited for networks where the data flow is linear. For architectures with branches (like skip connections in ResNets) or multiple inputs/outputs, manual layer definition might be more appropriate.\n",
    "\n",
    "- Modules in `Sequential` are executed in the order they're added, making the order crucial. Always ensure that layers are added in the intended sequence.\n",
    "\n",
    "### 6. **In Context**:\n",
    "\n",
    "If you're familiar with other deep learning frameworks, the concept might remind you of Keras's `Sequential` model. The idea of simplifying linear stacks of layers is a common one across various deep learning libraries, given its convenience.\n",
    "\n",
    "### Conclusion:\n",
    "\n",
    "`torch.nn.Sequential` is a convenient tool in the PyTorch library that helps in compactly defining and organizing linear sequences of operations in neural network architectures. While incredibly useful for straightforward, linear data flows, it's essential to remember its limitations when dealing with more complex architectures."
   ]
  },
  {
   "cell_type": "code",
   "execution_count": 34,
   "metadata": {},
   "outputs": [],
   "source": [
    "# Layers made in part 3\n",
    "class Linear:\n",
    "    def __init__(self, fan_in, fan_out, bias = True):\n",
    "        self.weight = torch.randn((fan_in, fan_out))\n",
    "        self.weight /= fan_in ** 0.5\n",
    "        self.bias = torch.zeros((fan_out)) if bias else None\n",
    "\n",
    "    def __call__(self, x):\n",
    "        self.out = x @ self.weight\n",
    "        if self.bias is not None:\n",
    "            self.out += self.bias\n",
    "        return self.out\n",
    "\n",
    "    def parameters(self):\n",
    "        return [self.weight] + ([] if self.bias is None else [self.bias])\n",
    "\n",
    "\n",
    "class BatchNorm1d:\n",
    "    def __init__(self, dim, eps=1e-5, momentum = 0.1):\n",
    "        self.eps = eps\n",
    "        self.momentum = momentum\n",
    "        self.training = True\n",
    "\n",
    "        # parameters (trained with backprop)\n",
    "        self.gamma = torch.ones(dim)\n",
    "        self.beta = torch.zeros(dim)\n",
    "\n",
    "        # buffers (trained while running `momentum update`)\n",
    "        self.running_mean = torch.zeros(dim)\n",
    "        self.running_var = torch.ones(dim)\n",
    "\n",
    "    def __call__(self, x):\n",
    "        if self.training:\n",
    "            # batch mean\n",
    "            xmean = x.mean(0, keepdim= True)\n",
    "            # batch variance\n",
    "            xvar = x.var(0, keepdim= True)\n",
    "        else:\n",
    "            xmean = self.running_mean\n",
    "            xvar = self.running_var\n",
    "        \n",
    "        xhat = (x - xmean) / torch.sqrt(xvar + self.eps)\n",
    "        self.out = self.gamma * xhat + self.beta\n",
    "\n",
    "        # update the buffers in training\n",
    "        if self.training:\n",
    "            with torch.no_grad():\n",
    "                self.running_mean = (1 - self.momentum) * self.running_mean + self.momentum * xmean\n",
    "                self.running_var = (1 - self.momentum) * self.running_var + self.momentum * xvar\n",
    "        \n",
    "        return self.out\n",
    "    \n",
    "    def parameters(self):\n",
    "        return [self.gamma, self.beta]\n",
    "    \n",
    "\n",
    "class Tanh:\n",
    "    def __call__(self, x):\n",
    "        self.out = torch.tanh(x)\n",
    "        return self.out\n",
    "\n",
    "    def parameters(self):\n",
    "        return []\n",
    "    \n",
    "# ---------------- new ----------------\n",
    "class Embedding:\n",
    "    def __init__(self, num_embeddings, embedding_dim):\n",
    "        self.weight = torch.randn((num_embeddings, embedding_dim))\n",
    "    \n",
    "    def __call__(self, x):\n",
    "        self.out = self.weight[x]\n",
    "        return self.out\n",
    "    \n",
    "    def parameters(self):\n",
    "        return [self.weight]\n",
    "    \n",
    "class Flatten:\n",
    "    def __call__(self, x):\n",
    "        self.out = x.view((x.shape[0], -1))\n",
    "        return self.out\n",
    "    \n",
    "    def parameters(self):\n",
    "        return []\n",
    "\n",
    "class Sequential:\n",
    "    def __init__(self, layers):\n",
    "        self.layers = layers\n",
    "    \n",
    "    def __call__(self, x):\n",
    "        for layer in self.layers:\n",
    "            x = layer(x)\n",
    "\n",
    "        self.out = x\n",
    "        return self.out\n",
    "\n",
    "    def parameters(self):\n",
    "        return [p for l in self.layers for p in l.parameters()]"
   ]
  },
  {
   "attachments": {},
   "cell_type": "markdown",
   "metadata": {},
   "source": [
    "## Initialize the model"
   ]
  },
  {
   "cell_type": "code",
   "execution_count": 35,
   "metadata": {},
   "outputs": [
    {
     "name": "stdout",
     "output_type": "stream",
     "text": [
      "num parameters: 12097\n"
     ]
    }
   ],
   "source": [
    "n_embd = 10\n",
    "n_hidden = 200\n",
    "\n",
    "model = Sequential([\n",
    "    Embedding(vocab_size, n_embd),\n",
    "    Flatten(),\n",
    "\n",
    "    Linear(n_embd * block_size, n_hidden, bias= False),\n",
    "    BatchNorm1d(n_hidden),\n",
    "    Tanh(),\n",
    "\n",
    "    Linear(n_hidden, vocab_size)\n",
    "])\n",
    "\n",
    "with torch.no_grad():\n",
    "    layers[-1].weight *= 0.1\n",
    "\n",
    "parameters = model.parameters()\n",
    "print(f\"num parameters: {sum(p.numel() for p in parameters)}\")\n",
    "for p in parameters:\n",
    "    p.requires_grad_()\n"
   ]
  },
  {
   "attachments": {},
   "cell_type": "markdown",
   "metadata": {},
   "source": [
    "## Training the model"
   ]
  },
  {
   "cell_type": "code",
   "execution_count": 36,
   "metadata": {},
   "outputs": [
    {
     "name": "stdout",
     "output_type": "stream",
     "text": [
      "step 0 loss 3.531754493713379\n"
     ]
    }
   ],
   "source": [
    "# same optimization as last time\n",
    "max_steps = 200000\n",
    "batch_size = 32\n",
    "lossi = []\n",
    "update_to_data_ratio = []\n",
    "\n",
    "for i in range(max_steps):\n",
    "    ix = torch.randint(0, Xtr.shape[0], (batch_size,))\n",
    "    Xb, Yb = Xtr[ix], Ytr[ix]\n",
    "\n",
    "    # forward pass is now simpler\n",
    "    logits = model(Xb)\n",
    "    loss = F.cross_entropy(logits, Yb)\n",
    "\n",
    "    for p in parameters:\n",
    "        p.grad = None\n",
    "    loss.backward()\n",
    "\n",
    "    # update\n",
    "    lr = 0.1 if i < 10000 else 0.01\n",
    "    for p in parameters:\n",
    "        p.data -= lr * p.grad\n",
    "    \n",
    "    # track stats\n",
    "    if i % 10000 == 0:\n",
    "        print(f\"step {i} loss {loss.item()}\")\n",
    "\n",
    "    lossi.append(loss.item())"
   ]
  },
  {
   "attachments": {},
   "cell_type": "markdown",
   "metadata": {},
   "source": [
    "## Model Evaluation"
   ]
  },
  {
   "cell_type": "code",
   "execution_count": 37,
   "metadata": {},
   "outputs": [],
   "source": [
    "for layer in model.layers:\n",
    "    layer.training = False"
   ]
  },
  {
   "cell_type": "code",
   "execution_count": 38,
   "metadata": {},
   "outputs": [
    {
     "name": "stdout",
     "output_type": "stream",
     "text": [
      "train 3.5045688152313232\n",
      "valid 3.5048117637634277\n"
     ]
    }
   ],
   "source": [
    "@torch.no_grad()\n",
    "def split_loss(split):\n",
    "    x, y = {\n",
    "        \"train\": (Xtr, Ytr),\n",
    "        \"valid\": (Xdev, Ydev),\n",
    "        \"test\": (Xte, Yte)\n",
    "    }[split]\n",
    "    logits = model(x)\n",
    "    loss = F.cross_entropy(logits, y)\n",
    "    return loss.item()\n",
    "\n",
    "print(\"train\", split_loss(\"train\"))\n",
    "print(\"valid\", split_loss(\"valid\"))"
   ]
  },
  {
   "attachments": {},
   "cell_type": "markdown",
   "metadata": {},
   "source": [
    "## Sample from the model"
   ]
  },
  {
   "cell_type": "code",
   "execution_count": 39,
   "metadata": {},
   "outputs": [
    {
     "name": "stdout",
     "output_type": "stream",
     "text": [
      "qwzqafikobfomyqgly\n",
      "jqrfohseadzjqkfgqxaipbfdsgv\n",
      "wqf\n",
      "oidazkdqzhiehjwnwfohppcgtyog\n",
      "csugtawfuhifxaste\n",
      "j\n",
      "kqmgqxia\n",
      "hiahmjcplgpedqivr\n",
      "t\n",
      "nnoxoxuuxccvktuku\n",
      "iatuuxghlharqrfzxabcr\n",
      "qlocpyradlmtkstjutwjunolzoflgiizsxtnlexesdcbk\n",
      "ilgulzmehtfglvbafwqxuxxuycvtknohajlsgevrrbbqr\n",
      "qjjflupnv\n",
      "j\n",
      "tiesaedmgwijkcmjcftflpebyfnrqeqix\n",
      "gtibmpgexvpynncobkjpnbotjez\n",
      "meqfiuhkejfcjvsigosxgzfhbbkqximglxzmlhvcw\n",
      "qidzkdebwwbncdrbwgtatqntzrfshjeqsydqaeohghojkqnkpbldigvxzahljktlupscrthmazgmegwxzsidqjwkn\n",
      "bteruejqewqhgiljpdanqpnkogvluvpyofsqitcjcfmtcrdlpxlcfdnrnpj\n"
     ]
    }
   ],
   "source": [
    "# sampling from the model\n",
    "g = torch.Generator().manual_seed(2147483647 + 10)\n",
    "\n",
    "for _ in range(20):\n",
    "    out = []\n",
    "    context = [0] * block_size\n",
    "    while True:\n",
    "        # Forward pass\n",
    "        logits = model(torch.tensor([context]))\n",
    "        probs = F.softmax(logits, dim = 1)\n",
    "\n",
    "        ix = torch.multinomial(probs, num_samples = 1).item()\n",
    "\n",
    "        # Shift the Context Window\n",
    "        context = context[1:] + [ix]\n",
    "\n",
    "        if ix == 0:\n",
    "            break\n",
    "\n",
    "        out.append(ix)\n",
    "    \n",
    "    print(\"\".join(itos[i] for i in out))\n",
    "        "
   ]
  },
  {
   "attachments": {},
   "cell_type": "markdown",
   "metadata": {},
   "source": [
    "# Building the WaveNet Model"
   ]
  },
  {
   "cell_type": "code",
   "execution_count": 40,
   "metadata": {},
   "outputs": [
    {
     "data": {
      "image/png": "[encoded data removed]",
      "text/plain": [
       "<Figure size 1000x2000 with 1 Axes>"
      ]
     },
     "metadata": {},
     "output_type": "display_data"
    }
   ],
   "source": [
    "# preview an image\n",
    "import matplotlib.pyplot as plt\n",
    "plt.figure(figsize=(10,20))\n",
    "plt.imshow(plt.imread(\"dilated_casual_conv.png\"))\n",
    "plt.axis(\"off\");"
   ]
  },
  {
   "attachments": {},
   "cell_type": "markdown",
   "metadata": {},
   "source": [
    "## Changing Dataset blocksize"
   ]
  },
  {
   "cell_type": "code",
   "execution_count": 41,
   "metadata": {},
   "outputs": [
    {
     "name": "stdout",
     "output_type": "stream",
     "text": [
      "torch.Size([182580, 8]) torch.Size([182580])\n",
      "torch.Size([22767, 8]) torch.Size([22767])\n",
      "torch.Size([22799, 8]) torch.Size([22799])\n"
     ]
    }
   ],
   "source": [
    "block_size = 8\n",
    "def build_dataset(words):  \n",
    "\n",
    "  X, Y = [], []\n",
    "  \n",
    "  for w in words:\n",
    "\n",
    "    context = [0] * block_size\n",
    "    for ch in w + '.':\n",
    "\n",
    "      ix = stoi[ch]\n",
    "\n",
    "      X.append(context)\n",
    "      Y.append(ix)\n",
    "\n",
    "      context = context[1:] + [ix]\n",
    "\n",
    "  X = torch.tensor(X)\n",
    "  Y = torch.tensor(Y)\n",
    "  print(X.shape, Y.shape)\n",
    "  return X, Y\n",
    "\n",
    "import random\n",
    "random.seed(42)\n",
    "random.shuffle(words)\n",
    "n1 = int(0.8*len(words))\n",
    "n2 = int(0.9*len(words))\n",
    "\n",
    "Xtr, Ytr = build_dataset(words[:n1])\n",
    "Xdev, Ydev = build_dataset(words[n1:n2])\n",
    "Xte, Yte = build_dataset(words[n2:])"
   ]
  },
  {
   "cell_type": "code",
   "execution_count": 42,
   "metadata": {},
   "outputs": [
    {
     "name": "stdout",
     "output_type": "stream",
     "text": [
      "........ ----> e\n",
      ".......e ----> b\n",
      "......eb ----> r\n",
      ".....ebr ----> i\n",
      "....ebri ----> m\n",
      "...ebrim ----> a\n",
      "..ebrima ----> .\n",
      "........ ----> h\n",
      ".......h ----> i\n",
      "......hi ----> l\n",
      ".....hil ----> t\n",
      "....hilt ----> o\n",
      "...hilto ----> n\n",
      "..hilton ----> .\n",
      "........ ----> j\n"
     ]
    }
   ],
   "source": [
    "for x, y in zip(Xtr[:15], Ytr[:15]):\n",
    "  print(\"\".join(itos[ix.item()] for ix in x), \"---->\", itos[y.item()])"
   ]
  },
  {
   "attachments": {},
   "cell_type": "markdown",
   "metadata": {},
   "source": [
    "## Initializing a normal network"
   ]
  },
  {
   "cell_type": "code",
   "execution_count": 43,
   "metadata": {},
   "outputs": [
    {
     "name": "stdout",
     "output_type": "stream",
     "text": [
      "num parameters: 22097\n"
     ]
    }
   ],
   "source": [
    "n_embd = 10\n",
    "n_hidden = 200\n",
    "\n",
    "model = Sequential([\n",
    "    Embedding(vocab_size, n_embd),\n",
    "    Flatten(),\n",
    "\n",
    "    Linear(n_embd * block_size, n_hidden, bias= False),\n",
    "    BatchNorm1d(n_hidden),\n",
    "    Tanh(),\n",
    "\n",
    "    Linear(n_hidden, vocab_size)\n",
    "])\n",
    "\n",
    "with torch.no_grad():\n",
    "    layers[-1].weight *= 0.1\n",
    "\n",
    "parameters = model.parameters()\n",
    "print(f\"num parameters: {sum(p.numel() for p in parameters)}\")\n",
    "for p in parameters:\n",
    "    p.requires_grad_()\n"
   ]
  },
  {
   "attachments": {},
   "cell_type": "markdown",
   "metadata": {},
   "source": [
    "## Implementing WaveNet"
   ]
  },
  {
   "cell_type": "markdown",
   "metadata": {},
   "source": [
    "## Our model gets improved using ideas from Wavenet\n",
    "\n",
    "The finished model is inspired by WaveNet, which is a deep learning architecture designed for generating raw audio waveforms.\n",
    "\n",
    "**Innovation**:\n",
    "1. **Hierarchical Fusion of Information**: Instead of squashing all the character information into a single layer right at the beginning, the new model aims for a more hierarchical approach. This is akin to WaveNet's methodology where information from previous contexts gets fused progressively as the network gets deeper. It's a departure from the original network that was more linear in its approach.\n",
    "2. **FlattenConsecutive Layer**: This new layer is essentially reshaping the data by grouping consecutive embeddings, which helps in retaining more granularity of information for longer sequences.\n",
    "3. **Increased Depth with Batch Normalization**: The model has added depth, with multiple hidden layers interspersed with BatchNorm layers. Batch Normalization helps in stabilizing and accelerating the training of deeper networks.\n",
    "\n",
    "**Intuition**:\n",
    "1. **Preserving Contextual Information**: By not immediately squashing all characters into a single layer, the network retains more of the raw, granular information from the input. This is crucial when predicting the next character based on a sequence of prior characters. The more original context the model has, the better its predictive capability.\n",
    "2. **Progressive Fusion of Information**: Just as our human cognition processes information hierarchically (from letters to words to sentences to paragraphs), the model is designed to gradually combine information. It first understands pairs of characters, then bigger chunks, and so on. This allows the model to capture both short-term and long-term dependencies in the data.\n",
    "3. **Stability with Batch Normalization**: Deep networks can suffer from internal covariate shift where the distribution of layer inputs changes during training. Batch normalization standardizes the inputs of a layer, making training more stable and faster.\n",
    "4. **Embedding Layer**: It's a look-up table that maps from integer indices (representing specific words or characters) to dense vectors (their embeddings). These vectors are trainable and can capture the semantic relationship between words or characters. By using embeddings, the model can capture richer representations of the input data.\n",
    "\n",
    "In summary, the hierarchical approach is inspired by WaveNet's methodology of processing audio signals, where the prediction for the next audio sample depends on a gradually fused context of previous samples. By applying a similar approach to character prediction, the model aims to capture richer contextual information, leading to better predictions."
   ]
  },
  {
   "cell_type": "markdown",
   "metadata": {},
   "source": [
    "## WaveNet Implementation and Tensor Management\n",
    "\n",
    "### Forward Pass Visualization\n",
    "The lecturer is working on a neural network implementation of WaveNet. To ensure understanding and correct functioning, they visualize the forward pass by observing tensor shapes at each stage. This helps in understanding data transformations as it progresses through the network.\n",
    "\n",
    "### Input Batch and Shape\n",
    "A batch of 4 random examples is created for debugging. The shape of the batch (referred to as \\( xB \\)) is \\($ 4 \\times 8 $\\) due to having 4 examples and a block size of 8.\n",
    "\n",
    "### Embedding Layer\n",
    "The first layer is the embedding layer. When the integer tensor \\( xB \\) is passed through this layer, the output shape becomes \\( $4 \\times 8 \\times 10 $\\). Here, each character has a 10-dimensional vector representation. The embedding layer takes the integers and converts them into these 10-dimensional vectors.\n",
    "\n",
    "### Flattening and Concatenation\n",
    "The flattened layer views the \\( $4 \\times 8 \\times 10 $\\) tensor as a \\( $4 \\times 80 $\\) tensor. The effect is that the 10-dimensional embeddings for the 8 characters are lined up in a row, appearing as if they've been concatenated.\n",
    "\n",
    "### Linear Layer and Matrix Multiplication\n",
    "The linear layer is responsible for transforming the shape from \\( $4 \\times 80 $\\) to \\($ 4 \\times 200$ \\). This is achieved through matrix multiplication. The lecturer emphasizes that in PyTorch, the matrix multiplication operator is versatile and can handle higher-dimensional tensors, treating earlier dimensions as batch dimensions.\n",
    "\n",
    "### Restructuring Input\n",
    "A key insight is that instead of flattening the entire input, we can group and process parts of it. For instance, the lecturer suggests grouping every two consecutive elements for processing in parallel. This results in a tensor shape of \\($ 4 \\times 4 \\times 20 $\\).\n",
    "\n",
    "### Flattening Consecutively\n",
    "To achieve the desired restructuring, the lecturer introduces a new method called \"Flatten Consecutive\". This method differs from the regular flattening by allowing for flattening only a specified number of consecutive elements, leading to multi-dimensional outputs rather than fully flattened ones.\n",
    "\n",
    "### Model Layers and Parameter Count\n",
    "The lecturer moves on to demonstrate how the neural network layers are organized. They ensure that the number of parameters remains consistent as the model architecture evolves, emphasizing the importance of maintaining model capacity.\n",
    "\n",
    "### WaveNet's Performance\n",
    "After restructuring the neural network, the lecturer observes that the validation loss remains nearly identical to the original, simpler model. This suggests that, at least in this instance, the added complexity doesn't yield performance benefits.\n",
    "\n",
    "### Potential Issues with BatchNorm1D\n",
    "The lecturer points out that while the model runs, there might still be issues, specifically with the BatchNorm1D layer. A thorough review of this layer is necessary to ensure it's functioning correctly."
   ]
  },
  {
   "attachments": {},
   "cell_type": "markdown",
   "metadata": {},
   "source": [
    "### Shape Exploration"
   ]
  },
  {
   "cell_type": "code",
   "execution_count": 44,
   "metadata": {},
   "outputs": [
    {
     "name": "stdout",
     "output_type": "stream",
     "text": [
      "torch.Size([5, 8])\n"
     ]
    },
    {
     "data": {
      "text/plain": [
       "tensor([[ 0, 19,  1, 14, 20,  9, 14, 15],\n",
       "        [ 0,  0,  0,  0, 26,  1, 13,  9],\n",
       "        [ 0,  0,  0,  0,  0,  0,  0,  0],\n",
       "        [ 0,  0,  0,  0,  0,  0, 16,  5],\n",
       "        [ 0,  0,  0,  0,  0, 14,  1,  8]])"
      ]
     },
     "execution_count": 44,
     "metadata": {},
     "output_type": "execute_result"
    }
   ],
   "source": [
    "# look at batch of 5 examples (it's 4 in the original video but I changed it to 5 to prevent confusion)\n",
    "ix = torch.randint(0, Xtr.shape[0], (5,))\n",
    "Xb, Yb = Xtr[ix], Ytr[ix]\n",
    "\n",
    "logits = model(Xb)\n",
    "print(Xb.shape)\n",
    "Xb"
   ]
  },
  {
   "cell_type": "markdown",
   "metadata": {},
   "source": [
    "## Update Embedding Layer\n",
    "\n",
    "### 1. **Current Model State**:\n",
    "The current model has training and validation losses that are close to each other. This suggests that the model isn't overfitting. In such cases, a common approach to improve performance is to expand the model: increase its capacity by adding more neurons or layers.\n",
    "\n",
    "### 2. **Problem with Current Architecture**:\n",
    "Right now, the model takes in a sequence of characters, processes them through a single layer, and predicts the next character. This is somewhat akin to trying to understand a sentence by reading all its words at once. While you can add more layers, you're still compressing all the information at the very beginning, which might be suboptimal.\n",
    "\n",
    "### 3. **Inspiration from WaveNet**:\n",
    "WaveNet offers a different approach. Instead of compressing all characters at once, it processes the input in a hierarchical manner. Imagine trying to understand a sentence not word by word, but by understanding two words at a time, then four words, then eight, and so on. This allows the model to capture relationships and patterns at different scales.\n",
    "\n",
    "### 4. **Progressive Fusion**:\n",
    "The key idea is to combine (or \"fuse\") input data progressively. Start by combining pairs of characters (bigrams). Then, combine pairs of bigrams to form four-character chunks, and so on. This slow fusion ensures that the model has a more refined understanding of the input data at various levels of granularity.\n",
    "\n",
    "### 5. **Dilated Causal Convolutions**:\n",
    "While it sounds complex, the core idea is about efficiency and preserving information. In standard convolutions, each layer can only see a limited portion of the input. By using dilated convolutions, each layer can see a wider range of input, allowing the model to capture longer-term dependencies without needing extremely deep architectures. The \"causal\" part ensures that the prediction at any time step is only based on past and current data, not future data.\n",
    "\n",
    "### Conclusion:\n",
    "In essence, the lecturer is suggesting moving from a simplistic model that quickly compresses input information to a more sophisticated architecture that understands the input in a layered and hierarchical manner. This approach, inspired by WaveNet, allows the model to capture patterns and relationships at different scales, potentially leading to better performance. The implementation details, like dilated causal convolutions, are there to ensure efficiency and respect the temporal nature of the data."
   ]
  },
  {
   "cell_type": "code",
   "execution_count": 45,
   "metadata": {},
   "outputs": [
    {
     "name": "stdout",
     "output_type": "stream",
     "text": [
      "Embedding has output size of: torch.Size([5, 8, 10])\n",
      "Flatten has output size of: torch.Size([5, 80])\n",
      "Linear has output size of: torch.Size([5, 200])\n",
      "BatchNorm1d has output size of: torch.Size([5, 200])\n",
      "Tanh has output size of: torch.Size([5, 200])\n",
      "Linear has output size of: torch.Size([5, 27])\n"
     ]
    }
   ],
   "source": [
    "for layer in model.layers:\n",
    "    print(f\"{layer.__class__.__name__} has output size of: {layer.out.shape}\")"
   ]
  },
  {
   "attachments": {},
   "cell_type": "markdown",
   "metadata": {},
   "source": [
    "We don't want to process the 8 characters at the same time\n",
    "```\n",
    "1 2 3 4 5 6 7 8\n",
    "```\n",
    "But we want to process them in 4 groups of 2 characters in parallel\n",
    "```\n",
    "(1 2) (3 4) (5 6) (7 8)\n",
    "```\n",
    "\n",
    "So instead of multiplying `(5, 80) @ (80, 200) = (5, 200)` we want to multiply `(5, 4, 20) @ (20, 200) = (5, 4, 200)`"
   ]
  },
  {
   "cell_type": "code",
   "execution_count": 46,
   "metadata": {},
   "outputs": [
    {
     "data": {
      "text/plain": [
       "tensor(True)"
      ]
     },
     "execution_count": 46,
     "metadata": {},
     "output_type": "execute_result"
    }
   ],
   "source": [
    "# output of layer 0\n",
    "e = torch.randn(5, 8, 10)\n",
    "# contacenate even and odd (on character dimension) elements of the last dimension\n",
    "explicit = torch.cat([e[:, ::2, :], e[:, 1::2, :]], dim = 2)\n",
    "# you can do the same using view\n",
    "implicit = e.view(5, 4, 20)\n",
    "\n",
    "(implicit == explicit).all()"
   ]
  },
  {
   "attachments": {},
   "cell_type": "markdown",
   "metadata": {},
   "source": [
    "### FlattenConsectutive Class"
   ]
  },
  {
   "cell_type": "markdown",
   "metadata": {},
   "source": [
    "## `torch.squeeze`\n",
    "\n",
    "The `torch.squeeze` function removes dimensions of size 1 from a tensor. It's particularly useful when certain operations introduce unwanted singleton dimensions, and you want to revert back to a more compact shape.\n",
    "\n",
    "**Function signature**:\n",
    "```python\n",
    "torch.squeeze(input, dim=None, *, out=None)\n",
    "```\n",
    "\n",
    "- `input` (Tensor): The input tensor.\n",
    "- `dim` (int, optional): Specifies which dimension to squeeze. If not specified, all dimensions of size 1 will be squeezed.\n",
    "- `out` (Tensor, optional): The output tensor.\n",
    "\n",
    "### **Examples**:\n",
    "\n",
    "1. **Squeezing all dimensions of size 1**:\n",
    "\n",
    "```python\n",
    "import torch\n",
    "\n",
    "# A tensor with shape [1, 3, 1, 2]\n",
    "x = torch.tensor([[[[1, 2]], [[3, 4]], [[5, 6]]]])\n",
    "print(x.shape)  # torch.Size([1, 3, 1, 2])\n",
    "\n",
    "y = torch.squeeze(x)\n",
    "print(y.shape)  # torch.Size([3, 2])\n",
    "```\n",
    "\n",
    "Here, `torch.squeeze` removed the first and third dimensions, both of size 1.\n",
    "\n",
    "2. **Squeezing a specific dimension**:\n",
    "\n",
    "If you only want to squeeze a specific dimension, you can specify it using the `dim` argument.\n",
    "\n",
    "```python\n",
    "z = torch.squeeze(x, dim=0)\n",
    "print(z.shape)  # torch.Size([3, 1, 2])\n",
    "```\n",
    "\n",
    "In this case, only the first dimension of size 1 was squeezed.\n",
    "\n",
    "3. **A tensor with no dimensions of size 1**:\n",
    "\n",
    "```python\n",
    "a = torch.tensor([[1, 2], [3, 4]])\n",
    "print(a.shape)  # torch.Size([2, 2])\n",
    "\n",
    "b = torch.squeeze(a)\n",
    "print(b.shape)  # torch.Size([2, 2])\n",
    "```\n",
    "\n",
    "As there were no dimensions of size 1, `torch.squeeze` had no effect on the tensor's shape.\n",
    "\n",
    "### **Note**:\n",
    "\n",
    "Be cautious when using `torch.squeeze` without specifying a dimension. In some cases, especially when your tensor might sometimes have singleton dimensions due to variable data sizes (e.g., batch size of 1 in deep learning models), unintended squeezing might lead to shape mismatches or other errors in subsequent operations."
   ]
  },
  {
   "cell_type": "code",
   "execution_count": 47,
   "metadata": {},
   "outputs": [],
   "source": [
    "# Reimplement Flatten\n",
    "class FlattenConsecutive:\n",
    "    def __init__(self, n):\n",
    "        # n is the number of consecutive elements we want (2 in our example)\n",
    "        self.n = n\n",
    "    \n",
    "    def __call__(self, x):\n",
    "        # in our example: B = 5, T = 8, C = 10\n",
    "        B, T, C = x.shape\n",
    "        # we want to convert X to (5, 4, 20)\n",
    "        x = x.view(B, T // self.n, C * self.n)\n",
    "\n",
    "        if x.shape[1] == 1:\n",
    "            x = x.squeeze(1)\n",
    "        \n",
    "        self.out = x\n",
    "        return self.out\n",
    "\n",
    "    def parameters(self):\n",
    "        return []"
   ]
  },
  {
   "attachments": {},
   "cell_type": "markdown",
   "metadata": {},
   "source": [
    "### Previous behavior using FlattenConsecutive"
   ]
  },
  {
   "cell_type": "code",
   "execution_count": 48,
   "metadata": {},
   "outputs": [
    {
     "name": "stdout",
     "output_type": "stream",
     "text": [
      "num parameters: 22097\n"
     ]
    }
   ],
   "source": [
    "n_embd = 10\n",
    "n_hidden = 200\n",
    "\n",
    "model = Sequential([\n",
    "    Embedding(vocab_size, n_embd),\n",
    "    # calling FlattenConsecutive(block_size) will return in the same previous behavior\n",
    "    FlattenConsecutive(block_size),\n",
    "\n",
    "    Linear(n_embd * block_size, n_hidden, bias= False),\n",
    "    BatchNorm1d(n_hidden),\n",
    "    Tanh(),\n",
    "\n",
    "    Linear(n_hidden, vocab_size)\n",
    "])\n",
    "\n",
    "with torch.no_grad():\n",
    "    layers[-1].weight *= 0.1\n",
    "\n",
    "parameters = model.parameters()\n",
    "print(f\"num parameters: {sum(p.numel() for p in parameters)}\")\n",
    "for p in parameters:\n",
    "    p.requires_grad_()\n"
   ]
  },
  {
   "cell_type": "code",
   "execution_count": 49,
   "metadata": {},
   "outputs": [
    {
     "name": "stdout",
     "output_type": "stream",
     "text": [
      "torch.Size([5, 8])\n"
     ]
    },
    {
     "data": {
      "text/plain": [
       "tensor([[ 0,  0,  3,  1, 18, 18,  9,  3],\n",
       "        [ 0,  0,  0, 19, 20,  1, 18, 18],\n",
       "        [ 0,  0,  0,  0,  0,  0,  0,  0],\n",
       "        [ 0,  0,  0, 11,  1, 12,  5, 20],\n",
       "        [ 0,  0,  0,  4,  1, 25, 12,  5]])"
      ]
     },
     "execution_count": 49,
     "metadata": {},
     "output_type": "execute_result"
    }
   ],
   "source": [
    "ix = torch.randint(0, Xtr.shape[0], (5,))\n",
    "Xb, Yb = Xtr[ix], Ytr[ix]\n",
    "\n",
    "logits = model(Xb)\n",
    "print(Xb.shape)\n",
    "Xb"
   ]
  },
  {
   "cell_type": "code",
   "execution_count": 50,
   "metadata": {},
   "outputs": [
    {
     "name": "stdout",
     "output_type": "stream",
     "text": [
      "Embedding has output size of: torch.Size([5, 8, 10])\n",
      "FlattenConsecutive has output size of: torch.Size([5, 80])\n",
      "Linear has output size of: torch.Size([5, 200])\n",
      "BatchNorm1d has output size of: torch.Size([5, 200])\n",
      "Tanh has output size of: torch.Size([5, 200])\n",
      "Linear has output size of: torch.Size([5, 27])\n"
     ]
    }
   ],
   "source": [
    "for layer in model.layers:\n",
    "    print(f\"{layer.__class__.__name__} has output size of: {(layer.out.shape)}\")"
   ]
  },
  {
   "attachments": {},
   "cell_type": "markdown",
   "metadata": {},
   "source": [
    "### Processing Hierarchically: FlattenConsecutive(2)"
   ]
  },
  {
   "cell_type": "code",
   "execution_count": 51,
   "metadata": {},
   "outputs": [
    {
     "name": "stdout",
     "output_type": "stream",
     "text": [
      "num parameters: 22397\n"
     ]
    }
   ],
   "source": [
    "n_embd = 10\n",
    "# changing the number of hidden units to 68 keeps the same number of parameters as the previous model (22k)\n",
    "n_hidden = 68\n",
    "\n",
    "model = Sequential([\n",
    "    Embedding(vocab_size, n_embd),\n",
    "    FlattenConsecutive(2), Linear(n_embd * 2, n_hidden, bias= False), BatchNorm1d(n_hidden),Tanh(),\n",
    "    FlattenConsecutive(2), Linear(n_hidden * 2, n_hidden, bias= False), BatchNorm1d(n_hidden),Tanh(),\n",
    "    FlattenConsecutive(2), Linear(n_hidden * 2, n_hidden, bias= False), BatchNorm1d(n_hidden),Tanh(),\n",
    "    Linear(n_hidden, vocab_size),\n",
    "])\n",
    "\n",
    "with torch.no_grad():\n",
    "    layers[-1].weight *= 0.1\n",
    "\n",
    "parameters = model.parameters()\n",
    "print(f\"num parameters: {sum(p.numel() for p in parameters)}\")\n",
    "for p in parameters:\n",
    "    p.requires_grad_()"
   ]
  },
  {
   "cell_type": "code",
   "execution_count": 52,
   "metadata": {},
   "outputs": [
    {
     "name": "stdout",
     "output_type": "stream",
     "text": [
      "torch.Size([5, 8])\n"
     ]
    },
    {
     "data": {
      "text/plain": [
       "tensor([[ 0,  0,  0,  0,  0,  0, 13,  5],\n",
       "        [ 0,  0,  0,  0,  0, 14,  9, 19],\n",
       "        [ 0,  0,  1,  9, 25,  1, 14, 14],\n",
       "        [ 0,  0,  0,  0, 25, 15, 21, 19],\n",
       "        [ 0,  0,  0,  0,  0,  0,  0,  4]])"
      ]
     },
     "execution_count": 52,
     "metadata": {},
     "output_type": "execute_result"
    }
   ],
   "source": [
    "ix = torch.randint(0, Xtr.shape[0], (5,))\n",
    "Xb, Yb = Xtr[ix], Ytr[ix]\n",
    "\n",
    "logits = model(Xb)\n",
    "print(Xb.shape)\n",
    "Xb"
   ]
  },
  {
   "cell_type": "code",
   "execution_count": 53,
   "metadata": {},
   "outputs": [
    {
     "name": "stdout",
     "output_type": "stream",
     "text": [
      "Embedding has output size of: torch.Size([5, 8, 10])\n",
      "FlattenConsecutive has output size of: torch.Size([5, 4, 20])\n",
      "Linear has output size of: torch.Size([5, 4, 68])\n",
      "BatchNorm1d has output size of: torch.Size([5, 4, 68])\n",
      "Tanh has output size of: torch.Size([5, 4, 68])\n",
      "FlattenConsecutive has output size of: torch.Size([5, 2, 136])\n",
      "Linear has output size of: torch.Size([5, 2, 68])\n",
      "BatchNorm1d has output size of: torch.Size([5, 2, 68])\n",
      "Tanh has output size of: torch.Size([5, 2, 68])\n",
      "FlattenConsecutive has output size of: torch.Size([5, 136])\n",
      "Linear has output size of: torch.Size([5, 68])\n",
      "BatchNorm1d has output size of: torch.Size([5, 68])\n",
      "Tanh has output size of: torch.Size([5, 68])\n",
      "Linear has output size of: torch.Size([5, 27])\n"
     ]
    }
   ],
   "source": [
    "for layer in model.layers:\n",
    "    print(f\"{layer.__class__.__name__} has output size of: {layer.out.shape}\")"
   ]
  },
  {
   "attachments": {},
   "cell_type": "markdown",
   "metadata": {},
   "source": [
    "however, this network gives the same loss = 2.0"
   ]
  },
  {
   "attachments": {},
   "cell_type": "markdown",
   "metadata": {},
   "source": [
    "### Fixing BatchNorm Bug\n",
    "\n",
    "We implemented batchnorm for X 2D only. We calculated mean and variance for the first dimension only. We don't want to average over the batch dimension only, but also over the 2nd dimension (the 4 groups of 2 characters)\n",
    "\n",
    "- **Issue**: The current BatchNorm1D implementation assumes a two-dimensional input, but the actual input is three-dimensional. This discrepancy leads to improper calculations.\n",
    "- **Current Behavior**: The BatchNorm receives an input with dimensions 32x4x68. Although this shape allows the code to run without errors due to broadcasting, it doesn't work as intended.\n",
    "- **Desired Behavior**: The BatchNorm should be modified to consider both the zeroth and first dimensions as batch dimensions. Instead of averaging over 32 numbers, the average should be over \\($32 \\times 4$\\) numbers for each of the 68 channels.\n",
    "- **Solution**: The lecturer suggests using the `torch.mean` function, which can reduce over multiple dimensions at the same time. By passing in a tuple (0,1) as dimensions, the mean is calculated over both the zeroth and first dimensions, leading to a 1x1x68 shape.\n",
    "\n",
    "## Deviation from PyTorch API\n",
    "\n",
    "There's a highlighted difference between the lecturer's implementation and PyTorch's BatchNorm1D:\n",
    "\n",
    "- **PyTorch's BatchNorm1D**: Assumes that when input is three-dimensional, it should be in the form of nxCxL (with C being the number of features or channels).\n",
    "- **Lecturer's Implementation**: Assumes the input to be in the form of nxLxC.\n",
    "\n",
    "## Development Process of Building Deep Neural Nets\n",
    "\n",
    "1. **Reference to Documentation**: It's essential to frequently refer to the documentation to understand the various layers, their expected input shapes, and functionalities. However, the lecturer notes that PyTorch documentation can sometimes be misleading or incomplete.\n",
    "2. **Shape Management**: A significant amount of time is spent ensuring tensor shapes are compatible. This involves reshaping tensors, understanding expected input and output shapes, and sometimes prototyping to ensure shapes align.\n",
    "3. **Prototyping**: The lecturer emphasizes the utility of Jupyter notebooks for prototyping. Once satisfied with the prototype, the code is transferred to a more permanent codebase.\n",
    "4. **Use of Convolutions**: Convolutions are introduced as a means for efficiency. Instead of processing inputs individually, convolutions allow the model to process multiple inputs simultaneously by sliding filters over the input sequence. This concept connects with future topics, like Convolutional Neural Networks (CNNs)."
   ]
  },
  {
   "cell_type": "code",
   "execution_count": 54,
   "metadata": {},
   "outputs": [
    {
     "name": "stdout",
     "output_type": "stream",
     "text": [
      "torch.Size([32, 4, 68])\n",
      "shape of running mean is torch.Size([1, 4, 68])\n"
     ]
    }
   ],
   "source": [
    "e = torch.rand(32, 4, 68)\n",
    "emean = e.mean(dim = (0,1), keepdim = True) # (1, 1, 68)\n",
    "evar = e.var((0,1), keepdim = True) # (1, 1, 68)\n",
    "ehat = (e - emean) / torch.sqrt(evar + 1e-5)\n",
    "\n",
    "print(ehat.shape)\n",
    "print(f\"shape of running mean is {model.layers[3].running_mean.shape}\")"
   ]
  },
  {
   "cell_type": "code",
   "execution_count": 55,
   "metadata": {},
   "outputs": [],
   "source": [
    "class BatchNorm1d:\n",
    "    def __init__(self, dim, eps=1e-5, momentum = 0.1):\n",
    "        self.eps = eps\n",
    "        self.momentum = momentum\n",
    "        self.training = True\n",
    "\n",
    "        # parameters (trained with backprop)\n",
    "        self.gamma = torch.ones(dim)\n",
    "        self.beta = torch.zeros(dim)\n",
    "\n",
    "        # buffers (trained while running `momentum update`)\n",
    "        self.running_mean = torch.zeros(dim)\n",
    "        self.running_var = torch.ones(dim)\n",
    "\n",
    "    def __call__(self, x):\n",
    "        if self.training:\n",
    "            # determine the dimension to reduce over\n",
    "            if x.ndim == 2:\n",
    "                dim = 0\n",
    "            elif x.ndim == 3:\n",
    "                dim = (0,1)\n",
    "            \n",
    "            xmean = x.mean(dim, keepdim= True)\n",
    "            # batch variance\n",
    "            xvar = x.var(dim, keepdim= True)\n",
    "        else:\n",
    "            xmean = self.running_mean\n",
    "            xvar = self.running_var\n",
    "        \n",
    "        xhat = (x - xmean) / torch.sqrt(xvar + self.eps)\n",
    "        self.out = self.gamma * xhat + self.beta\n",
    "\n",
    "        # update the buffers in training\n",
    "        if self.training:\n",
    "            with torch.no_grad():\n",
    "                self.running_mean = (1 - self.momentum) * self.running_mean + self.momentum * xmean\n",
    "                self.running_var = (1 - self.momentum) * self.running_var + self.momentum * xvar\n",
    "        \n",
    "        return self.out\n",
    "    \n",
    "    def parameters(self):\n",
    "        return [self.gamma, self.beta]"
   ]
  },
  {
   "cell_type": "code",
   "execution_count": 56,
   "metadata": {},
   "outputs": [
    {
     "name": "stdout",
     "output_type": "stream",
     "text": [
      "num parameters: 22397\n"
     ]
    }
   ],
   "source": [
    "n_embd = 10\n",
    "# changing the number of hidden units to 68 keeps the same number of parameters as the previous model (22k)\n",
    "n_hidden = 68\n",
    "\n",
    "model = Sequential([\n",
    "    Embedding(vocab_size, n_embd),\n",
    "    FlattenConsecutive(2), Linear(n_embd * 2, n_hidden, bias= False), BatchNorm1d(n_hidden),Tanh(),\n",
    "    FlattenConsecutive(2), Linear(n_hidden * 2, n_hidden, bias= False), BatchNorm1d(n_hidden),Tanh(),\n",
    "    FlattenConsecutive(2), Linear(n_hidden * 2, n_hidden, bias= False), BatchNorm1d(n_hidden),Tanh(),\n",
    "    Linear(n_hidden, vocab_size),\n",
    "])\n",
    "\n",
    "with torch.no_grad():\n",
    "    layers[-1].weight *= 0.1\n",
    "\n",
    "parameters = model.parameters()\n",
    "print(f\"num parameters: {sum(p.numel() for p in parameters)}\")\n",
    "for p in parameters:\n",
    "    p.requires_grad_()"
   ]
  },
  {
   "attachments": {},
   "cell_type": "markdown",
   "metadata": {},
   "source": [
    "## Improving WaveNet's Performance\n",
    "\n",
    "- **Current Performance**: The model's performance has improved from a loss of 2.1 to 1.993.\n",
    "- **Challenges**: The lecturer points out that the current approach lacks an experimental harness, meaning they're mostly making educated guesses without a systematic way to evaluate changes.\n",
    "- **Potential Improvements**: Suggestions include re-allocating channels, tweaking the number of dimensions for embeddings, or even reverting to a simpler network structure. The WaveNet paper itself might also have additional strategies or layers worth implementing."
   ]
  },
  {
   "attachments": {},
   "cell_type": "markdown",
   "metadata": {},
   "source": [
    "# Final Implementation"
   ]
  },
  {
   "cell_type": "code",
   "execution_count": 57,
   "metadata": {},
   "outputs": [],
   "source": [
    "# Layers made in part 3\n",
    "class Linear:\n",
    "    def __init__(self, fan_in, fan_out, bias = True):\n",
    "        self.weight = torch.randn((fan_in, fan_out))\n",
    "        self.weight /= fan_in ** 0.5\n",
    "        self.bias = torch.zeros((fan_out)) if bias else None\n",
    "\n",
    "    def __call__(self, x):\n",
    "        self.out = x @ self.weight\n",
    "        if self.bias is not None:\n",
    "            self.out += self.bias\n",
    "        return self.out\n",
    "\n",
    "    def parameters(self):\n",
    "        return [self.weight] + ([] if self.bias is None else [self.bias])\n",
    "\n",
    "\n",
    "class BatchNorm1d:\n",
    "    def __init__(self, dim, eps=1e-5, momentum = 0.1):\n",
    "        self.eps = eps\n",
    "        self.momentum = momentum\n",
    "        self.training = True\n",
    "\n",
    "        # parameters (trained with backprop)\n",
    "        self.gamma = torch.ones(dim)\n",
    "        self.beta = torch.zeros(dim)\n",
    "\n",
    "        # buffers (trained while running `momentum update`)\n",
    "        self.running_mean = torch.zeros(dim)\n",
    "        self.running_var = torch.ones(dim)\n",
    "\n",
    "    def __call__(self, x):\n",
    "        if self.training:\n",
    "            # determine the dimension to reduce over\n",
    "            if x.ndim == 2:\n",
    "                dim = 0\n",
    "            elif x.ndim == 3:\n",
    "                dim = (0,1)\n",
    "            \n",
    "            xmean = x.mean(dim, keepdim= True)\n",
    "            # batch variance\n",
    "            xvar = x.var(dim, keepdim= True)\n",
    "        else:\n",
    "            xmean = self.running_mean\n",
    "            xvar = self.running_var\n",
    "        \n",
    "        xhat = (x - xmean) / torch.sqrt(xvar + self.eps)\n",
    "        self.out = self.gamma * xhat + self.beta\n",
    "\n",
    "        # update the buffers in training\n",
    "        if self.training:\n",
    "            with torch.no_grad():\n",
    "                self.running_mean = (1 - self.momentum) * self.running_mean + self.momentum * xmean\n",
    "                self.running_var = (1 - self.momentum) * self.running_var + self.momentum * xvar\n",
    "        \n",
    "        return self.out\n",
    "    \n",
    "    def parameters(self):\n",
    "        return [self.gamma, self.beta]\n",
    "    \n",
    "\n",
    "class Tanh:\n",
    "    def __call__(self, x):\n",
    "        self.out = torch.tanh(x)\n",
    "        return self.out\n",
    "\n",
    "    def parameters(self):\n",
    "        return []\n",
    "    \n",
    "\n",
    "class Embedding:\n",
    "    def __init__(self, num_embeddings, embedding_dim):\n",
    "        self.weight = torch.randn((num_embeddings, embedding_dim))\n",
    "    \n",
    "    def __call__(self, x):\n",
    "        self.out = self.weight[x]\n",
    "        return self.out\n",
    "    \n",
    "    def parameters(self):\n",
    "        return [self.weight]\n",
    "    \n",
    "class Flatten:\n",
    "    def __call__(self, x):\n",
    "        self.out = x.view((x.shape[0], -1))\n",
    "        return self.out\n",
    "    \n",
    "    def parameters(self):\n",
    "        return []\n",
    "\n",
    "class Sequential:\n",
    "    def __init__(self, layers):\n",
    "        self.layers = layers\n",
    "    \n",
    "    def __call__(self, x):\n",
    "        for layer in self.layers:\n",
    "            x = layer(x)\n",
    "\n",
    "        self.out = x\n",
    "        return self.out\n",
    "\n",
    "    def parameters(self):\n",
    "        return [p for l in self.layers for p in l.parameters()]\n",
    "\n",
    "class FlattenConsecutive:\n",
    "    def __init__(self, n):\n",
    "        # n is the number of consecutive elements we want (2 in our example)\n",
    "        self.n = n\n",
    "    \n",
    "    def __call__(self, x):\n",
    "        # in our example: B = 5, T = 8, C = 10\n",
    "        B, T, C = x.shape\n",
    "        # we want to convert X to (5, 4, 20)\n",
    "        x = x.view(B, T // self.n, C * self.n)\n",
    "\n",
    "        if x.shape[1] == 1:\n",
    "            x = x.squeeze(1)\n",
    "        \n",
    "        self.out = x\n",
    "        return self.out\n",
    "\n",
    "    def parameters(self):\n",
    "        return []"
   ]
  },
  {
   "cell_type": "code",
   "execution_count": 58,
   "metadata": {},
   "outputs": [
    {
     "name": "stdout",
     "output_type": "stream",
     "text": [
      "76579\n"
     ]
    }
   ],
   "source": [
    "n_embd = 24 \n",
    "n_hidden = 128 \n",
    "\n",
    "model = Sequential([\n",
    "  Embedding(vocab_size, n_embd),\n",
    "  FlattenConsecutive(2), Linear(n_embd * 2, n_hidden, bias=False), BatchNorm1d(n_hidden), Tanh(),\n",
    "  FlattenConsecutive(2), Linear(n_hidden*2, n_hidden, bias=False), BatchNorm1d(n_hidden), Tanh(),\n",
    "  FlattenConsecutive(2), Linear(n_hidden*2, n_hidden, bias=False), BatchNorm1d(n_hidden), Tanh(),\n",
    "  Linear(n_hidden, vocab_size),\n",
    "])\n",
    "\n",
    "with torch.no_grad():\n",
    "  model.layers[-1].weight *= 0.1 # last layer make less confident\n",
    "\n",
    "parameters = model.parameters()\n",
    "print(sum(p.nelement() for p in parameters)) # number of parameters in total\n",
    "for p in parameters:\n",
    "  p.requires_grad = True"
   ]
  },
  {
   "cell_type": "code",
   "execution_count": 59,
   "metadata": {},
   "outputs": [
    {
     "name": "stdout",
     "output_type": "stream",
     "text": [
      "      0/ 200000: 3.2952\n",
      "  10000/ 200000: 2.2564\n",
      "  20000/ 200000: 2.0685\n",
      "  30000/ 200000: 2.0009\n",
      "  40000/ 200000: 2.3341\n",
      "  50000/ 200000: 2.2683\n",
      "  60000/ 200000: 1.9244\n",
      "  70000/ 200000: 1.9783\n",
      "  80000/ 200000: 1.6898\n",
      "  90000/ 200000: 1.7922\n",
      " 100000/ 200000: 1.8421\n",
      " 110000/ 200000: 1.5324\n",
      " 120000/ 200000: 1.9049\n",
      " 130000/ 200000: 1.5367\n",
      " 140000/ 200000: 1.8640\n",
      " 150000/ 200000: 1.7453\n",
      " 160000/ 200000: 1.5165\n",
      " 170000/ 200000: 2.0527\n",
      " 180000/ 200000: 1.6559\n",
      " 190000/ 200000: 1.5118\n"
     ]
    }
   ],
   "source": [
    "# same optimization as last time\n",
    "max_steps = 200000\n",
    "batch_size = 32\n",
    "lossi = []\n",
    "\n",
    "for i in range(max_steps):\n",
    "  \n",
    "  # minibatch construct\n",
    "  ix = torch.randint(0, Xtr.shape[0], (batch_size,))\n",
    "  Xb, Yb = Xtr[ix], Ytr[ix] # batch X,Y\n",
    "  \n",
    "  # forward pass\n",
    "  logits = model(Xb)\n",
    "  loss = F.cross_entropy(logits, Yb) # loss function\n",
    "  \n",
    "  # backward pass\n",
    "  for p in parameters:\n",
    "    p.grad = None\n",
    "  loss.backward()\n",
    "  \n",
    "  # update: simple SGD\n",
    "  lr = 0.1 if i < 150000 else 0.01 # step learning rate decay\n",
    "  for p in parameters:\n",
    "    p.data += -lr * p.grad\n",
    "\n",
    "  # track stats\n",
    "  if i % 10000 == 0: # print every once in a while\n",
    "    print(f'{i:7d}/{max_steps:7d}: {loss.item():.4f}')\n",
    "  lossi.append(loss.log10().item())"
   ]
  },
  {
   "cell_type": "code",
   "execution_count": 60,
   "metadata": {},
   "outputs": [
    {
     "data": {
      "image/png": "[encoded data removed]",
      "text/plain": [
       "<Figure size 640x480 with 1 Axes>"
      ]
     },
     "metadata": {},
     "output_type": "display_data"
    }
   ],
   "source": [
    "plt.plot(torch.tensor(lossi).view(-1, 1000).mean(1, keepdim= True).data);"
   ]
  },
  {
   "cell_type": "code",
   "execution_count": 61,
   "metadata": {},
   "outputs": [],
   "source": [
    "for layer in model.layers:\n",
    "    layer.training = False"
   ]
  },
  {
   "cell_type": "code",
   "execution_count": 62,
   "metadata": {},
   "outputs": [
    {
     "name": "stdout",
     "output_type": "stream",
     "text": [
      "train 1.7711992263793945\n",
      "valid 1.9916445016860962\n"
     ]
    }
   ],
   "source": [
    "print(\"train\", split_loss(\"train\"))\n",
    "print(\"valid\", split_loss(\"valid\"))"
   ]
  },
  {
   "cell_type": "code",
   "execution_count": 63,
   "metadata": {},
   "outputs": [
    {
     "name": "stdout",
     "output_type": "stream",
     "text": [
      "khyron\n",
      "yanifs\n",
      "jesiel\n",
      "kahlani\n",
      "culeymarah\n",
      "romy\n",
      "zitarah\n",
      "zephary\n",
      "haralynn\n",
      "suaiya\n",
      "alazia\n",
      "kristian\n",
      "shadheil\n",
      "zarie\n",
      "emmahna\n",
      "devaya\n",
      "leidy\n",
      "delalie\n",
      "takarose\n",
      "railine\n"
     ]
    }
   ],
   "source": [
    "# sampling from the model\n",
    "g = torch.Generator().manual_seed(2147483647 + 10)\n",
    "\n",
    "for _ in range(20):\n",
    "    out = []\n",
    "    context = [0] * block_size\n",
    "    while True:\n",
    "        # Forward pass\n",
    "        logits = model(torch.tensor([context]).reshape(1, -1))\n",
    "        probs = F.softmax(logits, dim = 1)\n",
    "\n",
    "        ix = torch.multinomial(probs, num_samples = 1).item()\n",
    "\n",
    "        # Shift the Context Window\n",
    "        context = context[1:] + [ix]\n",
    "\n",
    "        if ix == 0:\n",
    "            break\n",
    "\n",
    "        out.append(ix)\n",
    "    \n",
    "    print(\"\".join(itos[i] for i in out))"
   ]
  },
  {
   "attachments": {},
   "cell_type": "markdown",
   "metadata": {},
   "source": [
    "Validation loss becomes 1.993"
   ]
  },
  {
   "cell_type": "code",
   "execution_count": 64,
   "metadata": {},
   "outputs": [],
   "source": [
    "#| hide\n",
    "import nbdev; nbdev.nbdev_export()"
   ]
  }
 ],
 "metadata": {
  "kernelspec": {
   "display_name": "Python 3 (ipykernel)",
   "language": "python",
   "name": "python3"
  },
  "language_info": {
   "codemirror_mode": {
    "name": "ipython",
    "version": 3
   },
   "file_extension": ".py",
   "mimetype": "text/x-python",
   "name": "python",
   "nbconvert_exporter": "python",
   "pygments_lexer": "ipython3",
   "version": "3.11.5"
  }
 },
 "nbformat": 4,
 "nbformat_minor": 4
}

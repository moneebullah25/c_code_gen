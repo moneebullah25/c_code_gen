{
 "cells": [
  {
   "cell_type": "raw",
   "id": "47ff5c56",
   "metadata": {},
   "source": [
    "---\n",
    "description: Basic working of our proposed project and its UML diagrams\n",
    "output-file: uml_diagrams.html\n",
    "title: UML Diagrams\n",
    "\n",
    "---\n",
    "\n"
   ]
  },
  {
   "cell_type": "code",
   "execution_count": null,
   "id": "aba3f5cd",
   "metadata": {},
   "outputs": [],
   "source": [
    "#| default_exp uml_diagrams"
   ]
  },
  {
   "cell_type": "code",
   "execution_count": null,
   "id": "e41c1998",
   "metadata": {},
   "outputs": [],
   "source": [
    "#| hide\n",
    "from nbdev.showdoc import *"
   ]
  },
  {
   "cell_type": "code",
   "execution_count": null,
   "id": "51e01c92",
   "metadata": {},
   "outputs": [],
   "source": [
    "import base64\n",
    "from IPython.display import Image, display\n",
    "import matplotlib.pyplot as plt\n",
    "\n",
    "def mm(graph):\n",
    "    graphbytes = graph.encode(\"utf8\")\n",
    "    base64_bytes = base64.b64encode(graphbytes)\n",
    "    base64_string = base64_bytes.decode(\"ascii\")\n",
    "    display(Image(url=\"https://mermaid.ink/img/\" + base64_string))\n"
   ]
  },
  {
   "cell_type": "markdown",
   "id": "f6a45054",
   "metadata": {},
   "source": [
    "## Sequence Diagram\n",
    "\n",
    "The sequence diagram that follows shows how the developer, IDE, model, and training process interact with one another. The process begins with the developer writing code in the IDE, the IDE sending the model the current code snippet, and the model using the machine learning model it has been trained to produce recommendations. After that, the developer can engage with the recommendations and offer input that helps the model get better over time by periodically retraining it. As the developer integrates the recommendations into their code, the process proceeds."
   ]
  },
  {
   "cell_type": "code",
   "execution_count": null,
   "id": "1fd48e90",
   "metadata": {},
   "outputs": [
    {
     "data": {
      "text/html": [
       "<img src=\"https://mermaid.ink/img/CnNlcXVlbmNlRGlhZ3JhbQogICAgcGFydGljaXBhbnQgRGV2ZWxvcGVyCiAgICBwYXJ0aWNpcGFudCBJREUKICAgIHBhcnRpY2lwYW50IE1vZGVsCiAgICBwYXJ0aWNpcGFudCBEYXRhc2V0CiAgICBwYXJ0aWNpcGFudCBNTFRyYWluaW5nCgogICAgRGV2ZWxvcGVyLT4+SURFOiBTdGFydHMgY29kaW5nIGluIElERQogICAgSURFLT4+TW9kZWw6IERldmVsb3BlcidzIGN1cnJlbnQgY29kZSBzbmlwcGV0CiAgICBNb2RlbC0+Pk1MVHJhaW5pbmc6IFJldHJpZXZlIGNvbnRleHQgZnJvbSBtb2RlbAogICAgTUxUcmFpbmluZy0tPj5Nb2RlbDogVHJhaW5zIG1hY2hpbmUgbGVhcm5pbmcgbW9kZWwKICAgIE1vZGVsLS0+PklERTogVHJhaW5lZCBtb2RlbAoKICAgIGFsdCBDb2RlIENvbXBsZXRpb24gQWN0aXZhdGVkCiAgICAgICAgRGV2ZWxvcGVyLT4+SURFOiBDb250aW51ZXMgdHlwaW5nCiAgICAgICAgSURFLT4+TW9kZWw6IEN1cnJlbnQgY29kZSBzbmlwcGV0CiAgICAgICAgTW9kZWwtPj5Nb2RlbDogR2VuZXJhdGUgY29kZSBzdWdnZXN0aW9ucwogICAgICAgIE1vZGVsLS0+PklERTogTGlzdCBvZiBzdWdnZXN0aW9ucwogICAgZWxzZSBVc2VyIEludGVyYWN0aW9uCiAgICAgICAgRGV2ZWxvcGVyLT4+SURFOiBSZXZpZXdzIGFuZCBzZWxlY3RzIHN1Z2dlc3Rpb25zCiAgICAgICAgSURFLT4+TW9kZWw6IFVzZXIgZmVlZGJhY2sKICAgICAgICBNb2RlbC0tPj5NTFRyYWluaW5nOiBVcGRhdGUgbW9kZWwgd2l0aCBmZWVkYmFjawogICAgICAgIE1MVHJhaW5pbmctLT4+TW9kZWw6IFJldHJhaW4gbW9kZWwKICAgIGVuZAoKICAgIERldmVsb3Blci0tPj5JREU6IENvbnRpbnVlcyBjb2Rpbmcgd2l0aCBzdWdnZXN0aW9ucwo=\"/>"
      ],
      "text/plain": [
       "<IPython.core.display.Image object>"
      ]
     },
     "metadata": {},
     "output_type": "display_data"
    }
   ],
   "source": [
    "mm(\"\"\"\n",
    "sequenceDiagram\n",
    "    participant Developer\n",
    "    participant IDE\n",
    "    participant Model\n",
    "    participant Dataset\n",
    "    participant MLTraining\n",
    "\n",
    "    Developer->>IDE: Starts coding in IDE\n",
    "    IDE->>Model: Developer's current code snippet\n",
    "    Model->>MLTraining: Retrieve context from model\n",
    "    MLTraining-->>Model: Trains machine learning model\n",
    "    Model-->>IDE: Trained model\n",
    "\n",
    "    alt Code Completion Activated\n",
    "        Developer->>IDE: Continues typing\n",
    "        IDE->>Model: Current code snippet\n",
    "        Model->>Model: Generate code suggestions\n",
    "        Model-->>IDE: List of suggestions\n",
    "    else User Interaction\n",
    "        Developer->>IDE: Reviews and selects suggestions\n",
    "        IDE->>Model: User feedback\n",
    "        Model-->>MLTraining: Update model with feedback\n",
    "        MLTraining-->>Model: Retrain model\n",
    "    end\n",
    "\n",
    "    Developer-->>IDE: Continues coding with suggestions\n",
    "\"\"\")"
   ]
  },
  {
   "cell_type": "markdown",
   "id": "43cc30f0",
   "metadata": {},
   "source": [
    "## Class Diagram\n",
    "\n",
    "The primary components and their interactions in an intelligent code completion system are depicted in this class diagram, which also emphasizes the information flow between the training component, the machine learning model, the integrated development environment, and the developer. However they might now reflect same in the code as we might change them according to the need."
   ]
  },
  {
   "cell_type": "code",
   "execution_count": null,
   "id": "2392348e",
   "metadata": {},
   "outputs": [
    {
     "data": {
      "text/html": [
       "<img src=\"https://mermaid.ink/img/CmNsYXNzRGlhZ3JhbQogIGNsYXNzIERldmVsb3BlciB7CiAgICArd3JpdGVDb2RlKCkKICB9CgogIGNsYXNzIElERSB7CiAgICArc2VuZENvZGVTbmlwcGV0KCkKICB9CgogIGNsYXNzIE1vZGVsIHsKICAgICtnZW5lcmF0ZUNvZGVTdWdnZXN0aW9ucygpCiAgICArcmVjZWl2ZVVzZXJGZWVkYmFjaygpCiAgfQoKICBjbGFzcyBNTFRyYWluaW5nIHsKICAgICt0cmFpbk1vZGVsKCkKICAgICt1cGRhdGVNb2RlbCgpCiAgfQoKICBEZXZlbG9wZXIgLS0+IElERTogVXNlcwogIElERSAtLT4gTW9kZWw6IFNlbmRzIGNvZGUgc25pcHBldAogIE1vZGVsIC0tPiBNTFRyYWluaW5nOiBUcmFpbnMgb24gZGF0YXNldAogIE1vZGVsIC0tPiBJREU6IFNlbmRzIHN1Z2dlc3Rpb25zCiAgTW9kZWwgLS0+IE1MVHJhaW5pbmc6IFJlY2VpdmVzIHVzZXIgZmVlZGJhY2sKICBNTFRyYWluaW5nIC0tPiBNb2RlbDogVXBkYXRlcyBtb2RlbAo=\"/>"
      ],
      "text/plain": [
       "<IPython.core.display.Image object>"
      ]
     },
     "metadata": {},
     "output_type": "display_data"
    }
   ],
   "source": [
    "mm(\"\"\"\n",
    "classDiagram\n",
    "  class Developer {\n",
    "    +writeCode()\n",
    "  }\n",
    "\n",
    "  class IDE {\n",
    "    +sendCodeSnippet()\n",
    "  }\n",
    "\n",
    "  class Model {\n",
    "    +generateCodeSuggestions()\n",
    "    +receiveUserFeedback()\n",
    "  }\n",
    "\n",
    "  class MLTraining {\n",
    "    +trainModel()\n",
    "    +updateModel()\n",
    "  }\n",
    "\n",
    "  Developer --> IDE: Uses\n",
    "  IDE --> Model: Sends code snippet\n",
    "  Model --> MLTraining: Trains on dataset\n",
    "  Model --> IDE: Sends suggestions\n",
    "  Model --> MLTraining: Receives user feedback\n",
    "  MLTraining --> Model: Updates model\n",
    "\"\"\")"
   ]
  },
  {
   "cell_type": "markdown",
   "id": "4862389c",
   "metadata": {},
   "source": [
    "## State Machine Diagram\n",
    "\n",
    "The system is shown in the state machine diagram as \"Coding\" upon startup. It changes to the \"Code Suggestions\" state when code completion is enabled. In the event that the user interacts with the suggestions, the system can either move to the \"User Interaction\" stage or revert to the \"Coding\" state. The \"User Interaction\" state permits the developer to type further or approve/disapprove recommendations."
   ]
  },
  {
   "cell_type": "code",
   "execution_count": null,
   "id": "284b224d",
   "metadata": {},
   "outputs": [
    {
     "data": {
      "text/html": [
       "<img src=\"https://mermaid.ink/img/CnN0YXRlRGlhZ3JhbQogIHN0YXRlICJDb2RpbmciIGFzIENvZGluZwogIHN0YXRlICJDb2RlIFN1Z2dlc3Rpb25zIiBhcyBTdWdnZXN0aW9ucwogIHN0YXRlICJVc2VyIEludGVyYWN0aW9uIiBhcyBJbnRlcmFjdGlvbgoKICBbKl0gLS0+IENvZGluZwoKICBDb2RpbmcgLS0+IFN1Z2dlc3Rpb25zOiBDb2RlIENvbXBsZXRpb24gQWN0aXZhdGVkCiAgU3VnZ2VzdGlvbnMgLS0+IENvZGluZzogU3VnZ2VzdGlvbnMgUmVqZWN0ZWQKICBTdWdnZXN0aW9ucyAtLT4gSW50ZXJhY3Rpb246IFVzZXIgSW50ZXJhY3Rpb24KCiAgSW50ZXJhY3Rpb24gLS0+IFN1Z2dlc3Rpb25zOiBDb250aW51ZSBUeXBpbmcKICBJbnRlcmFjdGlvbiAtLT4gQ29kaW5nOiBTdWdnZXN0aW9ucyBBY2NlcHRlZAoK\"/>"
      ],
      "text/plain": [
       "<IPython.core.display.Image object>"
      ]
     },
     "metadata": {},
     "output_type": "display_data"
    }
   ],
   "source": [
    "mm(\"\"\"\n",
    "stateDiagram\n",
    "  state \"Coding\" as Coding\n",
    "  state \"Code Suggestions\" as Suggestions\n",
    "  state \"User Interaction\" as Interaction\n",
    "\n",
    "  [*] --> Coding\n",
    "\n",
    "  Coding --> Suggestions: Code Completion Activated\n",
    "  Suggestions --> Coding: Suggestions Rejected\n",
    "  Suggestions --> Interaction: User Interaction\n",
    "\n",
    "  Interaction --> Suggestions: Continue Typing\n",
    "  Interaction --> Coding: Suggestions Accepted\n",
    "\"\"\")"
   ]
  },
  {
   "cell_type": "markdown",
   "id": "a4618f54",
   "metadata": {},
   "source": [
    "## User Journey Diagram\n",
    "\n",
    "The steps a developer takes to use the intelligent code completion system and get started with coding in the IDE are shown in this user journey diagram. Code completion, suggestion creation, user interaction, and the loop of continual improvement via user feedback and model retraining are all included."
   ]
  },
  {
   "cell_type": "code",
   "execution_count": null,
   "id": "c97fc76f",
   "metadata": {},
   "outputs": [
    {
     "data": {
      "text/html": [
       "<img src=\"https://mermaid.ink/img/CmpvdXJuZXkKICB0aXRsZSBEZXZlbG9wZXIncyBKb3VybmV5IHdpdGggSW50ZWxsaWdlbnQgQ29kZSBDb21wbGV0aW9uCgogIHNlY3Rpb24gR2V0dGluZyBTdGFydGVkCiAgICBEZXZlbG9wZXIgLS0+IElERTogU3RhcnRzIGNvZGluZyBpbiBJREUKCiAgc2VjdGlvbiBDb2RlIENvbXBsZXRpb24gQWN0aXZhdGVkCiAgICBJREUgLS0+IE1vZGVsOiBEZXZlbG9wZXIncyBjdXJyZW50IGNvZGUgc25pcHBldAogICAgTW9kZWwgLS0+IE1MVHJhaW5pbmc6IFJldHJpZXZlIGNvbnRleHQgZnJvbSA3MEdCIEMgY29kZSBkYXRhc2V0CiAgICBNTFRyYWluaW5nIC0tPj4gTW9kZWw6IFRyYWluIG1hY2hpbmUgbGVhcm5pbmcgbW9kZWwKICAgIE1vZGVsIC0tPj4gSURFOiBUcmFpbmVkIG1vZGVsCiAgICBEZXZlbG9wZXIgLS0+IElERTogQ29udGludWVzIHR5cGluZwoKICBzZWN0aW9uIFN1Z2dlc3Rpb25zCiAgICBJREUgLS0+IE1vZGVsOiBDdXJyZW50IGNvZGUgc25pcHBldAogICAgTW9kZWwgLS0+IE1vZGVsOiBHZW5lcmF0ZSBjb2RlIHN1Z2dlc3Rpb25zCiAgICBNb2RlbCAtLT4+IElERTogTGlzdCBvZiBzdWdnZXN0aW9ucwogICAgRGV2ZWxvcGVyIC0tPiBJREU6IFJldmlld3MgYW5kIHNlbGVjdHMgc3VnZ2VzdGlvbnMKCiAgc2VjdGlvbiBVc2VyIEludGVyYWN0aW9uCiAgICBJREUgLS0+IE1vZGVsOiBVc2VyIGZlZWRiYWNrCiAgICBNb2RlbCAtLT4+IE1MVHJhaW5pbmc6IFVwZGF0ZSBtb2RlbCB3aXRoIGZlZWRiYWNrCiAgICBNTFRyYWluaW5nIC0tPj4gTW9kZWw6IFJldHJhaW4gbW9kZWwKICAgIE1vZGVsIC0tPj4gSURFOiBVcGRhdGVkIG1vZGVsCiAgICBEZXZlbG9wZXIgLS0+IElERTogQ29udGludWVzIGNvZGluZyB3aXRoIHN1Z2dlc3Rpb25zCgogIHNlY3Rpb24gQ29uY2x1c2lvbgogICAgRGV2ZWxvcGVyIC0tPiBJREU6IEZpbmlzaGVzIGNvZGluZwoK\"/>"
      ],
      "text/plain": [
       "<IPython.core.display.Image object>"
      ]
     },
     "metadata": {},
     "output_type": "display_data"
    }
   ],
   "source": [
    "mm(\"\"\"\n",
    "journey\n",
    "  title Developer's Journey with Intelligent Code Completion\n",
    "\n",
    "  section Getting Started\n",
    "    Developer --> IDE: Starts coding in IDE\n",
    "\n",
    "  section Code Completion Activated\n",
    "    IDE --> Model: Developer's current code snippet\n",
    "    Model --> MLTraining: Retrieve context from 70GB C code dataset\n",
    "    MLTraining -->> Model: Train machine learning model\n",
    "    Model -->> IDE: Trained model\n",
    "    Developer --> IDE: Continues typing\n",
    "\n",
    "  section Suggestions\n",
    "    IDE --> Model: Current code snippet\n",
    "    Model --> Model: Generate code suggestions\n",
    "    Model -->> IDE: List of suggestions\n",
    "    Developer --> IDE: Reviews and selects suggestions\n",
    "\n",
    "  section User Interaction\n",
    "    IDE --> Model: User feedback\n",
    "    Model -->> MLTraining: Update model with feedback\n",
    "    MLTraining -->> Model: Retrain model\n",
    "    Model -->> IDE: Updated model\n",
    "    Developer --> IDE: Continues coding with suggestions\n",
    "\n",
    "  section Conclusion\n",
    "    Developer --> IDE: Finishes coding\n",
    "\n",
    "\"\"\")"
   ]
  },
  {
   "cell_type": "code",
   "execution_count": null,
   "id": "a3f1ae9c",
   "metadata": {},
   "outputs": [],
   "source": []
  },
  {
   "cell_type": "code",
   "execution_count": null,
   "id": "025666cd",
   "metadata": {},
   "outputs": [],
   "source": []
  },
  {
   "cell_type": "code",
   "execution_count": null,
   "id": "6d997e71",
   "metadata": {},
   "outputs": [],
   "source": []
  },
  {
   "cell_type": "code",
   "execution_count": null,
   "id": "5240dedd",
   "metadata": {},
   "outputs": [],
   "source": []
  },
  {
   "cell_type": "code",
   "execution_count": null,
   "id": "60ebea38",
   "metadata": {},
   "outputs": [],
   "source": [
    "#| hide\n",
    "import nbdev; nbdev.nbdev_export()"
   ]
  },
  {
   "cell_type": "code",
   "execution_count": null,
   "id": "337b0608",
   "metadata": {},
   "outputs": [],
   "source": []
  }
 ],
 "metadata": {
  "kernelspec": {
   "display_name": "python3",
   "language": "python",
   "name": "python3"
  }
 },
 "nbformat": 4,
 "nbformat_minor": 5
}
